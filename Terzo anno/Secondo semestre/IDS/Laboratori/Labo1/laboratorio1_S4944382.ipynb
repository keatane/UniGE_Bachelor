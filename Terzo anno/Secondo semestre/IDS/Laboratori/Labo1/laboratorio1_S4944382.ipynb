{
  "cells": [
    {
      "cell_type": "markdown",
      "metadata": {
        "id": "chtT18rhZV9f"
      },
      "source": [
        "# Preparare i dati"
      ]
    },
    {
      "cell_type": "markdown",
      "metadata": {
        "id": "40pWER7sZV9g"
      },
      "source": [
        "In questo laboratorio impareremo a trattare dati provenienti da sorgenti diverse, cercando di ottenere informazioni integrate e complete. \n",
        "Come esempio, ci concentreremo su dati riguardanti film e serie tv dei maggiori servizi di streaming. "
      ]
    },
    {
      "cell_type": "code",
      "execution_count": 401,
      "metadata": {
        "id": "ARzfzX9HZV9h"
      },
      "outputs": [],
      "source": [
        "import pandas as pd"
      ]
    },
    {
      "cell_type": "markdown",
      "metadata": {
        "id": "mYPdJ9ozZV9h"
      },
      "source": [
        "### Carico i dati di Netflix"
      ]
    },
    {
      "cell_type": "code",
      "execution_count": 402,
      "metadata": {
        "id": "HkyV4rGiZV9h"
      },
      "outputs": [],
      "source": [
        "netflix_titles = pd.read_csv(\"netflix_titles.csv\")"
      ]
    },
    {
      "cell_type": "markdown",
      "metadata": {
        "id": "6F2YBbjqZV9h"
      },
      "source": [
        "Diamo un'occhiata a come è organizzato il dataset"
      ]
    },
    {
      "cell_type": "code",
      "execution_count": 403,
      "metadata": {
        "id": "FZxLC5OXZV9h",
        "scrolled": true,
        "colab": {
          "base_uri": "https://localhost:8080/",
          "height": 786
        },
        "outputId": "8d8a224f-8aa5-4f60-b121-02265d63da0f"
      },
      "outputs": [
        {
          "output_type": "execute_result",
          "data": {
            "text/plain": [
              "   Unnamed: 0        id                                title   type  \\\n",
              "0           0  ts300399  Five Came Back: The Reference Films   SHOW   \n",
              "1           1   tm82169                                Rocky  MOVIE   \n",
              "2           2   tm17823                               Grease  MOVIE   \n",
              "3           3   tm69975                             Rocky II  MOVIE   \n",
              "4           4  tm127384      Monty Python and the Holy Grail  MOVIE   \n",
              "\n",
              "   release_year age_certification  runtime                 genres  \\\n",
              "0          1945             TV-MA       51      ['documentation']   \n",
              "1          1976                PG      119     ['drama', 'sport']   \n",
              "2          1978                PG      110  ['comedy', 'romance']   \n",
              "3          1979                PG      119     ['drama', 'sport']   \n",
              "4          1975                PG       91  ['fantasy', 'comedy']   \n",
              "\n",
              "  production_countries  seasons  ... tmdb_popularity  tmdb_score  \\\n",
              "0               ['US']      1.0  ...           0.601         NaN   \n",
              "1               ['US']      NaN  ...          99.713       7.783   \n",
              "2               ['US']      NaN  ...          33.160       7.406   \n",
              "3               ['US']      NaN  ...          74.191       7.200   \n",
              "4               ['GB']      NaN  ...          20.964       7.804   \n",
              "\n",
              "                     director  \\\n",
              "0                         NaN   \n",
              "1            John G. Avildsen   \n",
              "2              Randal Kleiser   \n",
              "3          Sylvester Stallone   \n",
              "4  Terry Gilliam, Terry Jones   \n",
              "\n",
              "                                                cast         country  \\\n",
              "0                                                NaN   United States   \n",
              "1  Sylvester Stallone, Talia Shire, Burt Young, C...   United States   \n",
              "2  John Travolta, Olivia Newton-John, Stockard Ch...   United States   \n",
              "3  Sylvester Stallone, Talia Shire, Burt Young, C...   United States   \n",
              "4  Graham Chapman, John Cleese, Eric Idle, Terry ...  United Kingdom   \n",
              "\n",
              "         date_added rating  duration  \\\n",
              "0  February 9, 2021  TV-MA  1 Season   \n",
              "1    August 1, 2019     PG   120 min   \n",
              "2  November 1, 2019     PG   110 min   \n",
              "3    August 1, 2019     PG   119 min   \n",
              "4   January 2, 2019     PG    92 min   \n",
              "\n",
              "                                      listed_in  \\\n",
              "0                                      TV Shows   \n",
              "1    Action & Adventure, Classic Movies, Dramas   \n",
              "2    Classic Movies, Comedies, Music & Musicals   \n",
              "3                         Dramas, Sports Movies   \n",
              "4  Action & Adventure, Classic Movies, Comedies   \n",
              "\n",
              "                                         description  \n",
              "0  This collection includes 12 World War II-era p...  \n",
              "1  Sylvester Stallone shot to fame as Rocky Balbo...  \n",
              "2  John Travolta and Olivia Newton-John star in t...  \n",
              "3  Featuring a rousing climax, this engaging sequ...  \n",
              "4  The Monty Python comedy clan skewers King Arth...  \n",
              "\n",
              "[5 rows x 23 columns]"
            ],
            "text/html": [
              "\n",
              "  <div id=\"df-dc8f19fa-199b-4f1a-b8cc-a549f020de36\">\n",
              "    <div class=\"colab-df-container\">\n",
              "      <div>\n",
              "<style scoped>\n",
              "    .dataframe tbody tr th:only-of-type {\n",
              "        vertical-align: middle;\n",
              "    }\n",
              "\n",
              "    .dataframe tbody tr th {\n",
              "        vertical-align: top;\n",
              "    }\n",
              "\n",
              "    .dataframe thead th {\n",
              "        text-align: right;\n",
              "    }\n",
              "</style>\n",
              "<table border=\"1\" class=\"dataframe\">\n",
              "  <thead>\n",
              "    <tr style=\"text-align: right;\">\n",
              "      <th></th>\n",
              "      <th>Unnamed: 0</th>\n",
              "      <th>id</th>\n",
              "      <th>title</th>\n",
              "      <th>type</th>\n",
              "      <th>release_year</th>\n",
              "      <th>age_certification</th>\n",
              "      <th>runtime</th>\n",
              "      <th>genres</th>\n",
              "      <th>production_countries</th>\n",
              "      <th>seasons</th>\n",
              "      <th>...</th>\n",
              "      <th>tmdb_popularity</th>\n",
              "      <th>tmdb_score</th>\n",
              "      <th>director</th>\n",
              "      <th>cast</th>\n",
              "      <th>country</th>\n",
              "      <th>date_added</th>\n",
              "      <th>rating</th>\n",
              "      <th>duration</th>\n",
              "      <th>listed_in</th>\n",
              "      <th>description</th>\n",
              "    </tr>\n",
              "  </thead>\n",
              "  <tbody>\n",
              "    <tr>\n",
              "      <th>0</th>\n",
              "      <td>0</td>\n",
              "      <td>ts300399</td>\n",
              "      <td>Five Came Back: The Reference Films</td>\n",
              "      <td>SHOW</td>\n",
              "      <td>1945</td>\n",
              "      <td>TV-MA</td>\n",
              "      <td>51</td>\n",
              "      <td>['documentation']</td>\n",
              "      <td>['US']</td>\n",
              "      <td>1.0</td>\n",
              "      <td>...</td>\n",
              "      <td>0.601</td>\n",
              "      <td>NaN</td>\n",
              "      <td>NaN</td>\n",
              "      <td>NaN</td>\n",
              "      <td>United States</td>\n",
              "      <td>February 9, 2021</td>\n",
              "      <td>TV-MA</td>\n",
              "      <td>1 Season</td>\n",
              "      <td>TV Shows</td>\n",
              "      <td>This collection includes 12 World War II-era p...</td>\n",
              "    </tr>\n",
              "    <tr>\n",
              "      <th>1</th>\n",
              "      <td>1</td>\n",
              "      <td>tm82169</td>\n",
              "      <td>Rocky</td>\n",
              "      <td>MOVIE</td>\n",
              "      <td>1976</td>\n",
              "      <td>PG</td>\n",
              "      <td>119</td>\n",
              "      <td>['drama', 'sport']</td>\n",
              "      <td>['US']</td>\n",
              "      <td>NaN</td>\n",
              "      <td>...</td>\n",
              "      <td>99.713</td>\n",
              "      <td>7.783</td>\n",
              "      <td>John G. Avildsen</td>\n",
              "      <td>Sylvester Stallone, Talia Shire, Burt Young, C...</td>\n",
              "      <td>United States</td>\n",
              "      <td>August 1, 2019</td>\n",
              "      <td>PG</td>\n",
              "      <td>120 min</td>\n",
              "      <td>Action &amp; Adventure, Classic Movies, Dramas</td>\n",
              "      <td>Sylvester Stallone shot to fame as Rocky Balbo...</td>\n",
              "    </tr>\n",
              "    <tr>\n",
              "      <th>2</th>\n",
              "      <td>2</td>\n",
              "      <td>tm17823</td>\n",
              "      <td>Grease</td>\n",
              "      <td>MOVIE</td>\n",
              "      <td>1978</td>\n",
              "      <td>PG</td>\n",
              "      <td>110</td>\n",
              "      <td>['comedy', 'romance']</td>\n",
              "      <td>['US']</td>\n",
              "      <td>NaN</td>\n",
              "      <td>...</td>\n",
              "      <td>33.160</td>\n",
              "      <td>7.406</td>\n",
              "      <td>Randal Kleiser</td>\n",
              "      <td>John Travolta, Olivia Newton-John, Stockard Ch...</td>\n",
              "      <td>United States</td>\n",
              "      <td>November 1, 2019</td>\n",
              "      <td>PG</td>\n",
              "      <td>110 min</td>\n",
              "      <td>Classic Movies, Comedies, Music &amp; Musicals</td>\n",
              "      <td>John Travolta and Olivia Newton-John star in t...</td>\n",
              "    </tr>\n",
              "    <tr>\n",
              "      <th>3</th>\n",
              "      <td>3</td>\n",
              "      <td>tm69975</td>\n",
              "      <td>Rocky II</td>\n",
              "      <td>MOVIE</td>\n",
              "      <td>1979</td>\n",
              "      <td>PG</td>\n",
              "      <td>119</td>\n",
              "      <td>['drama', 'sport']</td>\n",
              "      <td>['US']</td>\n",
              "      <td>NaN</td>\n",
              "      <td>...</td>\n",
              "      <td>74.191</td>\n",
              "      <td>7.200</td>\n",
              "      <td>Sylvester Stallone</td>\n",
              "      <td>Sylvester Stallone, Talia Shire, Burt Young, C...</td>\n",
              "      <td>United States</td>\n",
              "      <td>August 1, 2019</td>\n",
              "      <td>PG</td>\n",
              "      <td>119 min</td>\n",
              "      <td>Dramas, Sports Movies</td>\n",
              "      <td>Featuring a rousing climax, this engaging sequ...</td>\n",
              "    </tr>\n",
              "    <tr>\n",
              "      <th>4</th>\n",
              "      <td>4</td>\n",
              "      <td>tm127384</td>\n",
              "      <td>Monty Python and the Holy Grail</td>\n",
              "      <td>MOVIE</td>\n",
              "      <td>1975</td>\n",
              "      <td>PG</td>\n",
              "      <td>91</td>\n",
              "      <td>['fantasy', 'comedy']</td>\n",
              "      <td>['GB']</td>\n",
              "      <td>NaN</td>\n",
              "      <td>...</td>\n",
              "      <td>20.964</td>\n",
              "      <td>7.804</td>\n",
              "      <td>Terry Gilliam, Terry Jones</td>\n",
              "      <td>Graham Chapman, John Cleese, Eric Idle, Terry ...</td>\n",
              "      <td>United Kingdom</td>\n",
              "      <td>January 2, 2019</td>\n",
              "      <td>PG</td>\n",
              "      <td>92 min</td>\n",
              "      <td>Action &amp; Adventure, Classic Movies, Comedies</td>\n",
              "      <td>The Monty Python comedy clan skewers King Arth...</td>\n",
              "    </tr>\n",
              "  </tbody>\n",
              "</table>\n",
              "<p>5 rows × 23 columns</p>\n",
              "</div>\n",
              "      <button class=\"colab-df-convert\" onclick=\"convertToInteractive('df-dc8f19fa-199b-4f1a-b8cc-a549f020de36')\"\n",
              "              title=\"Convert this dataframe to an interactive table.\"\n",
              "              style=\"display:none;\">\n",
              "        \n",
              "  <svg xmlns=\"http://www.w3.org/2000/svg\" height=\"24px\"viewBox=\"0 0 24 24\"\n",
              "       width=\"24px\">\n",
              "    <path d=\"M0 0h24v24H0V0z\" fill=\"none\"/>\n",
              "    <path d=\"M18.56 5.44l.94 2.06.94-2.06 2.06-.94-2.06-.94-.94-2.06-.94 2.06-2.06.94zm-11 1L8.5 8.5l.94-2.06 2.06-.94-2.06-.94L8.5 2.5l-.94 2.06-2.06.94zm10 10l.94 2.06.94-2.06 2.06-.94-2.06-.94-.94-2.06-.94 2.06-2.06.94z\"/><path d=\"M17.41 7.96l-1.37-1.37c-.4-.4-.92-.59-1.43-.59-.52 0-1.04.2-1.43.59L10.3 9.45l-7.72 7.72c-.78.78-.78 2.05 0 2.83L4 21.41c.39.39.9.59 1.41.59.51 0 1.02-.2 1.41-.59l7.78-7.78 2.81-2.81c.8-.78.8-2.07 0-2.86zM5.41 20L4 18.59l7.72-7.72 1.47 1.35L5.41 20z\"/>\n",
              "  </svg>\n",
              "      </button>\n",
              "      \n",
              "  <style>\n",
              "    .colab-df-container {\n",
              "      display:flex;\n",
              "      flex-wrap:wrap;\n",
              "      gap: 12px;\n",
              "    }\n",
              "\n",
              "    .colab-df-convert {\n",
              "      background-color: #E8F0FE;\n",
              "      border: none;\n",
              "      border-radius: 50%;\n",
              "      cursor: pointer;\n",
              "      display: none;\n",
              "      fill: #1967D2;\n",
              "      height: 32px;\n",
              "      padding: 0 0 0 0;\n",
              "      width: 32px;\n",
              "    }\n",
              "\n",
              "    .colab-df-convert:hover {\n",
              "      background-color: #E2EBFA;\n",
              "      box-shadow: 0px 1px 2px rgba(60, 64, 67, 0.3), 0px 1px 3px 1px rgba(60, 64, 67, 0.15);\n",
              "      fill: #174EA6;\n",
              "    }\n",
              "\n",
              "    [theme=dark] .colab-df-convert {\n",
              "      background-color: #3B4455;\n",
              "      fill: #D2E3FC;\n",
              "    }\n",
              "\n",
              "    [theme=dark] .colab-df-convert:hover {\n",
              "      background-color: #434B5C;\n",
              "      box-shadow: 0px 1px 3px 1px rgba(0, 0, 0, 0.15);\n",
              "      filter: drop-shadow(0px 1px 2px rgba(0, 0, 0, 0.3));\n",
              "      fill: #FFFFFF;\n",
              "    }\n",
              "  </style>\n",
              "\n",
              "      <script>\n",
              "        const buttonEl =\n",
              "          document.querySelector('#df-dc8f19fa-199b-4f1a-b8cc-a549f020de36 button.colab-df-convert');\n",
              "        buttonEl.style.display =\n",
              "          google.colab.kernel.accessAllowed ? 'block' : 'none';\n",
              "\n",
              "        async function convertToInteractive(key) {\n",
              "          const element = document.querySelector('#df-dc8f19fa-199b-4f1a-b8cc-a549f020de36');\n",
              "          const dataTable =\n",
              "            await google.colab.kernel.invokeFunction('convertToInteractive',\n",
              "                                                     [key], {});\n",
              "          if (!dataTable) return;\n",
              "\n",
              "          const docLinkHtml = 'Like what you see? Visit the ' +\n",
              "            '<a target=\"_blank\" href=https://colab.research.google.com/notebooks/data_table.ipynb>data table notebook</a>'\n",
              "            + ' to learn more about interactive tables.';\n",
              "          element.innerHTML = '';\n",
              "          dataTable['output_type'] = 'display_data';\n",
              "          await google.colab.output.renderOutput(dataTable, element);\n",
              "          const docLink = document.createElement('div');\n",
              "          docLink.innerHTML = docLinkHtml;\n",
              "          element.appendChild(docLink);\n",
              "        }\n",
              "      </script>\n",
              "    </div>\n",
              "  </div>\n",
              "  "
            ]
          },
          "metadata": {},
          "execution_count": 403
        }
      ],
      "source": [
        "netflix_titles.head()"
      ]
    },
    {
      "cell_type": "markdown",
      "metadata": {
        "id": "3I_M9JPhNSmg"
      },
      "source": [
        "ed allo schema (notate che con head() alcune delle colonne, per problemi di spazio, non compaiono)"
      ]
    },
    {
      "cell_type": "code",
      "execution_count": 404,
      "metadata": {
        "id": "ZUaW4DbTNSmg",
        "colab": {
          "base_uri": "https://localhost:8080/"
        },
        "outputId": "930aeb9f-57fc-4160-f743-bb8141fd597c"
      },
      "outputs": [
        {
          "output_type": "stream",
          "name": "stdout",
          "text": [
            "<class 'pandas.core.frame.DataFrame'>\n",
            "RangeIndex: 3645 entries, 0 to 3644\n",
            "Data columns (total 23 columns):\n",
            " #   Column                Non-Null Count  Dtype  \n",
            "---  ------                --------------  -----  \n",
            " 0   Unnamed: 0            3645 non-null   int64  \n",
            " 1   id                    3645 non-null   object \n",
            " 2   title                 3645 non-null   object \n",
            " 3   type                  3645 non-null   object \n",
            " 4   release_year          3645 non-null   int64  \n",
            " 5   age_certification     2003 non-null   object \n",
            " 6   runtime               3645 non-null   int64  \n",
            " 7   genres                3645 non-null   object \n",
            " 8   production_countries  3645 non-null   object \n",
            " 9   seasons               1453 non-null   float64\n",
            " 10  imdb_id               3417 non-null   object \n",
            " 11  imdb_score            3378 non-null   float64\n",
            " 12  imdb_votes            3374 non-null   float64\n",
            " 13  tmdb_popularity       3612 non-null   float64\n",
            " 14  tmdb_score            3529 non-null   float64\n",
            " 15  director              2254 non-null   object \n",
            " 16  cast                  3280 non-null   object \n",
            " 17  country               3277 non-null   object \n",
            " 18  date_added            3645 non-null   object \n",
            " 19  rating                3645 non-null   object \n",
            " 20  duration              3644 non-null   object \n",
            " 21  listed_in             3645 non-null   object \n",
            " 22  description           3645 non-null   object \n",
            "dtypes: float64(5), int64(3), object(15)\n",
            "memory usage: 655.1+ KB\n"
          ]
        }
      ],
      "source": [
        "netflix_titles.info()"
      ]
    },
    {
      "cell_type": "markdown",
      "metadata": {
        "id": "D5akRnB1ZV9i"
      },
      "source": [
        "### Carico i dati di Disney+"
      ]
    },
    {
      "cell_type": "code",
      "execution_count": 405,
      "metadata": {
        "id": "FFkhlVa8ZV9i"
      },
      "outputs": [],
      "source": [
        "disney_titles = pd.read_csv(\"disney_titles.csv\")"
      ]
    },
    {
      "cell_type": "code",
      "execution_count": 406,
      "metadata": {
        "id": "FcvAqZ10ZV9i",
        "colab": {
          "base_uri": "https://localhost:8080/",
          "height": 722
        },
        "outputId": "b94d7c1b-c3d8-4fc0-b097-75a842471141"
      },
      "outputs": [
        {
          "output_type": "execute_result",
          "data": {
            "text/plain": [
              "   Unnamed: 0        id                                   title show_type  \\\n",
              "0           0   tm61729  The Adventures of Ichabod and Mr. Toad     MOVIE   \n",
              "1           1   tm61052                              Cinderella     MOVIE   \n",
              "2           2  tm190870                              Cinderella     MOVIE   \n",
              "3           3   tm87946                                   Dumbo     MOVIE   \n",
              "4           4  tm207119                                   Dumbo     MOVIE   \n",
              "\n",
              "   release_year age_certification  runtime  \\\n",
              "0          1950                 G       68   \n",
              "1          1950                 G       74   \n",
              "2          1997                 G       88   \n",
              "3          1941                 G       64   \n",
              "4          2019                PG      112   \n",
              "\n",
              "                                              genres production_countries  \\\n",
              "0  ['horror', 'fantasy', 'animation', 'comedy', '...               ['US']   \n",
              "1      ['fantasy', 'animation', 'family', 'romance']               ['US']   \n",
              "2                   ['romance', 'family', 'fantasy']               ['US']   \n",
              "3        ['animation', 'drama', 'family', 'fantasy']               ['US']   \n",
              "4                    ['family', 'fantasy', 'action']         ['GB', 'US']   \n",
              "\n",
              "   seasons    imdb_id  imdb_score  imdb_votes  tmdb_popularity  tmdb_score  \\\n",
              "0      NaN  tt0041094         6.9     16497.0           20.116       6.500   \n",
              "1      NaN  tt0042332         7.3    164222.0           93.547       7.035   \n",
              "2      NaN  tt0128996         6.7      8944.0            9.493       6.400   \n",
              "3      NaN  tt0033563         7.2    134997.0           54.265       6.999   \n",
              "4      NaN  tt3861390         6.3     73010.0           23.271       6.661   \n",
              "\n",
              "                                          director  \\\n",
              "0         Jack Kinney, Clyde Geronimi, James Algar   \n",
              "1  Wilfred Jackson, Hamilton Luske, Clyde Geronimi   \n",
              "2  Wilfred Jackson, Hamilton Luske, Clyde Geronimi   \n",
              "3                                       Tim Burton   \n",
              "4                                       Tim Burton   \n",
              "\n",
              "                                            country               from rating  \\\n",
              "0                                     United States  November 12, 2019      G   \n",
              "1                                     United States  November 12, 2019      G   \n",
              "2                                     United States  November 12, 2019      G   \n",
              "3  United States, United Kingdom, Australia, Canada  November 12, 2019     PG   \n",
              "4  United States, United Kingdom, Australia, Canada  November 12, 2019     PG   \n",
              "\n",
              "  duration  \n",
              "0   69 min  \n",
              "1   77 min  \n",
              "2   77 min  \n",
              "3  117 min  \n",
              "4  117 min  "
            ],
            "text/html": [
              "\n",
              "  <div id=\"df-08b1a566-7874-45ae-92ff-9e4877f75f19\">\n",
              "    <div class=\"colab-df-container\">\n",
              "      <div>\n",
              "<style scoped>\n",
              "    .dataframe tbody tr th:only-of-type {\n",
              "        vertical-align: middle;\n",
              "    }\n",
              "\n",
              "    .dataframe tbody tr th {\n",
              "        vertical-align: top;\n",
              "    }\n",
              "\n",
              "    .dataframe thead th {\n",
              "        text-align: right;\n",
              "    }\n",
              "</style>\n",
              "<table border=\"1\" class=\"dataframe\">\n",
              "  <thead>\n",
              "    <tr style=\"text-align: right;\">\n",
              "      <th></th>\n",
              "      <th>Unnamed: 0</th>\n",
              "      <th>id</th>\n",
              "      <th>title</th>\n",
              "      <th>show_type</th>\n",
              "      <th>release_year</th>\n",
              "      <th>age_certification</th>\n",
              "      <th>runtime</th>\n",
              "      <th>genres</th>\n",
              "      <th>production_countries</th>\n",
              "      <th>seasons</th>\n",
              "      <th>imdb_id</th>\n",
              "      <th>imdb_score</th>\n",
              "      <th>imdb_votes</th>\n",
              "      <th>tmdb_popularity</th>\n",
              "      <th>tmdb_score</th>\n",
              "      <th>director</th>\n",
              "      <th>country</th>\n",
              "      <th>from</th>\n",
              "      <th>rating</th>\n",
              "      <th>duration</th>\n",
              "    </tr>\n",
              "  </thead>\n",
              "  <tbody>\n",
              "    <tr>\n",
              "      <th>0</th>\n",
              "      <td>0</td>\n",
              "      <td>tm61729</td>\n",
              "      <td>The Adventures of Ichabod and Mr. Toad</td>\n",
              "      <td>MOVIE</td>\n",
              "      <td>1950</td>\n",
              "      <td>G</td>\n",
              "      <td>68</td>\n",
              "      <td>['horror', 'fantasy', 'animation', 'comedy', '...</td>\n",
              "      <td>['US']</td>\n",
              "      <td>NaN</td>\n",
              "      <td>tt0041094</td>\n",
              "      <td>6.9</td>\n",
              "      <td>16497.0</td>\n",
              "      <td>20.116</td>\n",
              "      <td>6.500</td>\n",
              "      <td>Jack Kinney, Clyde Geronimi, James Algar</td>\n",
              "      <td>United States</td>\n",
              "      <td>November 12, 2019</td>\n",
              "      <td>G</td>\n",
              "      <td>69 min</td>\n",
              "    </tr>\n",
              "    <tr>\n",
              "      <th>1</th>\n",
              "      <td>1</td>\n",
              "      <td>tm61052</td>\n",
              "      <td>Cinderella</td>\n",
              "      <td>MOVIE</td>\n",
              "      <td>1950</td>\n",
              "      <td>G</td>\n",
              "      <td>74</td>\n",
              "      <td>['fantasy', 'animation', 'family', 'romance']</td>\n",
              "      <td>['US']</td>\n",
              "      <td>NaN</td>\n",
              "      <td>tt0042332</td>\n",
              "      <td>7.3</td>\n",
              "      <td>164222.0</td>\n",
              "      <td>93.547</td>\n",
              "      <td>7.035</td>\n",
              "      <td>Wilfred Jackson, Hamilton Luske, Clyde Geronimi</td>\n",
              "      <td>United States</td>\n",
              "      <td>November 12, 2019</td>\n",
              "      <td>G</td>\n",
              "      <td>77 min</td>\n",
              "    </tr>\n",
              "    <tr>\n",
              "      <th>2</th>\n",
              "      <td>2</td>\n",
              "      <td>tm190870</td>\n",
              "      <td>Cinderella</td>\n",
              "      <td>MOVIE</td>\n",
              "      <td>1997</td>\n",
              "      <td>G</td>\n",
              "      <td>88</td>\n",
              "      <td>['romance', 'family', 'fantasy']</td>\n",
              "      <td>['US']</td>\n",
              "      <td>NaN</td>\n",
              "      <td>tt0128996</td>\n",
              "      <td>6.7</td>\n",
              "      <td>8944.0</td>\n",
              "      <td>9.493</td>\n",
              "      <td>6.400</td>\n",
              "      <td>Wilfred Jackson, Hamilton Luske, Clyde Geronimi</td>\n",
              "      <td>United States</td>\n",
              "      <td>November 12, 2019</td>\n",
              "      <td>G</td>\n",
              "      <td>77 min</td>\n",
              "    </tr>\n",
              "    <tr>\n",
              "      <th>3</th>\n",
              "      <td>3</td>\n",
              "      <td>tm87946</td>\n",
              "      <td>Dumbo</td>\n",
              "      <td>MOVIE</td>\n",
              "      <td>1941</td>\n",
              "      <td>G</td>\n",
              "      <td>64</td>\n",
              "      <td>['animation', 'drama', 'family', 'fantasy']</td>\n",
              "      <td>['US']</td>\n",
              "      <td>NaN</td>\n",
              "      <td>tt0033563</td>\n",
              "      <td>7.2</td>\n",
              "      <td>134997.0</td>\n",
              "      <td>54.265</td>\n",
              "      <td>6.999</td>\n",
              "      <td>Tim Burton</td>\n",
              "      <td>United States, United Kingdom, Australia, Canada</td>\n",
              "      <td>November 12, 2019</td>\n",
              "      <td>PG</td>\n",
              "      <td>117 min</td>\n",
              "    </tr>\n",
              "    <tr>\n",
              "      <th>4</th>\n",
              "      <td>4</td>\n",
              "      <td>tm207119</td>\n",
              "      <td>Dumbo</td>\n",
              "      <td>MOVIE</td>\n",
              "      <td>2019</td>\n",
              "      <td>PG</td>\n",
              "      <td>112</td>\n",
              "      <td>['family', 'fantasy', 'action']</td>\n",
              "      <td>['GB', 'US']</td>\n",
              "      <td>NaN</td>\n",
              "      <td>tt3861390</td>\n",
              "      <td>6.3</td>\n",
              "      <td>73010.0</td>\n",
              "      <td>23.271</td>\n",
              "      <td>6.661</td>\n",
              "      <td>Tim Burton</td>\n",
              "      <td>United States, United Kingdom, Australia, Canada</td>\n",
              "      <td>November 12, 2019</td>\n",
              "      <td>PG</td>\n",
              "      <td>117 min</td>\n",
              "    </tr>\n",
              "  </tbody>\n",
              "</table>\n",
              "</div>\n",
              "      <button class=\"colab-df-convert\" onclick=\"convertToInteractive('df-08b1a566-7874-45ae-92ff-9e4877f75f19')\"\n",
              "              title=\"Convert this dataframe to an interactive table.\"\n",
              "              style=\"display:none;\">\n",
              "        \n",
              "  <svg xmlns=\"http://www.w3.org/2000/svg\" height=\"24px\"viewBox=\"0 0 24 24\"\n",
              "       width=\"24px\">\n",
              "    <path d=\"M0 0h24v24H0V0z\" fill=\"none\"/>\n",
              "    <path d=\"M18.56 5.44l.94 2.06.94-2.06 2.06-.94-2.06-.94-.94-2.06-.94 2.06-2.06.94zm-11 1L8.5 8.5l.94-2.06 2.06-.94-2.06-.94L8.5 2.5l-.94 2.06-2.06.94zm10 10l.94 2.06.94-2.06 2.06-.94-2.06-.94-.94-2.06-.94 2.06-2.06.94z\"/><path d=\"M17.41 7.96l-1.37-1.37c-.4-.4-.92-.59-1.43-.59-.52 0-1.04.2-1.43.59L10.3 9.45l-7.72 7.72c-.78.78-.78 2.05 0 2.83L4 21.41c.39.39.9.59 1.41.59.51 0 1.02-.2 1.41-.59l7.78-7.78 2.81-2.81c.8-.78.8-2.07 0-2.86zM5.41 20L4 18.59l7.72-7.72 1.47 1.35L5.41 20z\"/>\n",
              "  </svg>\n",
              "      </button>\n",
              "      \n",
              "  <style>\n",
              "    .colab-df-container {\n",
              "      display:flex;\n",
              "      flex-wrap:wrap;\n",
              "      gap: 12px;\n",
              "    }\n",
              "\n",
              "    .colab-df-convert {\n",
              "      background-color: #E8F0FE;\n",
              "      border: none;\n",
              "      border-radius: 50%;\n",
              "      cursor: pointer;\n",
              "      display: none;\n",
              "      fill: #1967D2;\n",
              "      height: 32px;\n",
              "      padding: 0 0 0 0;\n",
              "      width: 32px;\n",
              "    }\n",
              "\n",
              "    .colab-df-convert:hover {\n",
              "      background-color: #E2EBFA;\n",
              "      box-shadow: 0px 1px 2px rgba(60, 64, 67, 0.3), 0px 1px 3px 1px rgba(60, 64, 67, 0.15);\n",
              "      fill: #174EA6;\n",
              "    }\n",
              "\n",
              "    [theme=dark] .colab-df-convert {\n",
              "      background-color: #3B4455;\n",
              "      fill: #D2E3FC;\n",
              "    }\n",
              "\n",
              "    [theme=dark] .colab-df-convert:hover {\n",
              "      background-color: #434B5C;\n",
              "      box-shadow: 0px 1px 3px 1px rgba(0, 0, 0, 0.15);\n",
              "      filter: drop-shadow(0px 1px 2px rgba(0, 0, 0, 0.3));\n",
              "      fill: #FFFFFF;\n",
              "    }\n",
              "  </style>\n",
              "\n",
              "      <script>\n",
              "        const buttonEl =\n",
              "          document.querySelector('#df-08b1a566-7874-45ae-92ff-9e4877f75f19 button.colab-df-convert');\n",
              "        buttonEl.style.display =\n",
              "          google.colab.kernel.accessAllowed ? 'block' : 'none';\n",
              "\n",
              "        async function convertToInteractive(key) {\n",
              "          const element = document.querySelector('#df-08b1a566-7874-45ae-92ff-9e4877f75f19');\n",
              "          const dataTable =\n",
              "            await google.colab.kernel.invokeFunction('convertToInteractive',\n",
              "                                                     [key], {});\n",
              "          if (!dataTable) return;\n",
              "\n",
              "          const docLinkHtml = 'Like what you see? Visit the ' +\n",
              "            '<a target=\"_blank\" href=https://colab.research.google.com/notebooks/data_table.ipynb>data table notebook</a>'\n",
              "            + ' to learn more about interactive tables.';\n",
              "          element.innerHTML = '';\n",
              "          dataTable['output_type'] = 'display_data';\n",
              "          await google.colab.output.renderOutput(dataTable, element);\n",
              "          const docLink = document.createElement('div');\n",
              "          docLink.innerHTML = docLinkHtml;\n",
              "          element.appendChild(docLink);\n",
              "        }\n",
              "      </script>\n",
              "    </div>\n",
              "  </div>\n",
              "  "
            ]
          },
          "metadata": {},
          "execution_count": 406
        }
      ],
      "source": [
        "disney_titles.head()"
      ]
    },
    {
      "cell_type": "code",
      "execution_count": 407,
      "metadata": {
        "id": "JOtmD-guNSmh",
        "colab": {
          "base_uri": "https://localhost:8080/"
        },
        "outputId": "384d0cf0-ba15-4204-a983-dbbbb9ba8c21"
      },
      "outputs": [
        {
          "output_type": "stream",
          "name": "stdout",
          "text": [
            "<class 'pandas.core.frame.DataFrame'>\n",
            "RangeIndex: 1070 entries, 0 to 1069\n",
            "Data columns (total 20 columns):\n",
            " #   Column                Non-Null Count  Dtype  \n",
            "---  ------                --------------  -----  \n",
            " 0   Unnamed: 0            1070 non-null   int64  \n",
            " 1   id                    1070 non-null   object \n",
            " 2   title                 1070 non-null   object \n",
            " 3   show_type             1070 non-null   object \n",
            " 4   release_year          1070 non-null   int64  \n",
            " 5   age_certification     854 non-null    object \n",
            " 6   runtime               1070 non-null   int64  \n",
            " 7   genres                1070 non-null   object \n",
            " 8   production_countries  1070 non-null   object \n",
            " 9   seasons               263 non-null    float64\n",
            " 10  imdb_id               807 non-null    object \n",
            " 11  imdb_score            792 non-null    float64\n",
            " 12  imdb_votes            791 non-null    float64\n",
            " 13  tmdb_popularity       1067 non-null   float64\n",
            " 14  tmdb_score            1027 non-null   float64\n",
            " 15  director              766 non-null    object \n",
            " 16  country               933 non-null    object \n",
            " 17  from                  1069 non-null   object \n",
            " 18  rating                1068 non-null   object \n",
            " 19  duration              1070 non-null   object \n",
            "dtypes: float64(5), int64(3), object(12)\n",
            "memory usage: 167.3+ KB\n"
          ]
        }
      ],
      "source": [
        "disney_titles.info()"
      ]
    },
    {
      "cell_type": "markdown",
      "metadata": {
        "id": "YfMT0ezAZV9i"
      },
      "source": [
        "Come abbiamo visto, i due dataset hanno molte colonne in comune, ma anche alcune differenze.\n",
        "\n",
        "Proviamo comunque ad integrare le due tabelle, creandone una terza che metta insieme i dati della prima e quelli della seconda. \n",
        "\n",
        "**tip**\n",
        "Dovete \"concatenare\" i due dataFrame di pandas. \n",
        "\n",
        "Provate a cercare la funzione corretta e scrivete il codice necessario. "
      ]
    },
    {
      "cell_type": "code",
      "execution_count": 408,
      "metadata": {
        "id": "GnEs8g0xaqur"
      },
      "outputs": [],
      "source": [
        "# ... completare qui ...\n",
        "integrated_titles = pd.concat([netflix_titles, disney_titles])"
      ]
    },
    {
      "cell_type": "markdown",
      "metadata": {
        "id": "WgIdPJmrbdQZ"
      },
      "source": [
        "Adesso, stampiamo un po' di informazioni sul dataset integrato (come ad esempio le dimensioni) e diamo un'occhiata allo schema."
      ]
    },
    {
      "cell_type": "code",
      "execution_count": 409,
      "metadata": {
        "id": "sOrZSZEDbgoJ",
        "colab": {
          "base_uri": "https://localhost:8080/"
        },
        "outputId": "2970504e-b829-41b7-cad7-4879f5f6aa05"
      },
      "outputs": [
        {
          "output_type": "stream",
          "name": "stdout",
          "text": [
            "(3645, 23)\n",
            "(1070, 20)\n",
            "(4715, 25)\n"
          ]
        }
      ],
      "source": [
        "# ... completare qui ...\n",
        "\n",
        "# Stampa lo schema\n",
        "# integrated_titles.info();\n",
        "\n",
        "# Stampa le dimensioni\n",
        "print(netflix_titles.shape);\n",
        "print(disney_titles.shape);\n",
        "print(integrated_titles.shape);"
      ]
    },
    {
      "cell_type": "markdown",
      "metadata": {
        "id": "VUa9TszxNSmi"
      },
      "source": [
        "Nonostante le differenze tra le due tabelle, la funzione concat concatena le due tabelle, mettendo a Null i valori delle colonne presenti solo in una delle due ed in corrispondenza delle righe provenienti dal dataset in cui la colonna non è presente. Proviamo a verificare la presenza di Null"
      ]
    },
    {
      "cell_type": "code",
      "execution_count": 410,
      "metadata": {
        "id": "q9fuN9QTNSmi",
        "colab": {
          "base_uri": "https://localhost:8080/"
        },
        "outputId": "5e5d7bad-8061-4a84-b86a-65c8318b486e"
      },
      "outputs": [
        {
          "output_type": "execute_result",
          "data": {
            "text/plain": [
              "Unnamed: 0                 0\n",
              "id                         0\n",
              "title                      0\n",
              "type                    1070\n",
              "release_year               0\n",
              "age_certification       1858\n",
              "runtime                    0\n",
              "genres                     0\n",
              "production_countries       0\n",
              "seasons                 2999\n",
              "imdb_id                  491\n",
              "imdb_score               545\n",
              "imdb_votes               550\n",
              "tmdb_popularity           36\n",
              "tmdb_score               159\n",
              "director                1695\n",
              "cast                    1435\n",
              "country                  505\n",
              "date_added              1070\n",
              "rating                     2\n",
              "duration                   1\n",
              "listed_in               1070\n",
              "description             1070\n",
              "show_type               3645\n",
              "from                    3646\n",
              "dtype: int64"
            ]
          },
          "metadata": {},
          "execution_count": 410
        }
      ],
      "source": [
        "# ... completare qui ...\n",
        "\n",
        "# integrated_titles.isnull()\n",
        "\n",
        "# Per avere un riepilogo \"in numeri\"\n",
        "integrated_titles.isnull().sum()"
      ]
    },
    {
      "cell_type": "markdown",
      "metadata": {
        "id": "S31N_EwqNSmi"
      },
      "source": [
        "Ad esempio la colonna **listed_in**, che è presente solo in netflix_titles, ha 1070 valori Null, che corrisponde al numero di righe della tabella disney_titles. "
      ]
    },
    {
      "cell_type": "markdown",
      "metadata": {
        "id": "A1binP2ENSmi"
      },
      "source": [
        "Decidiamo di eliminare eventuali colonne non comuni. Possiamo farlo **prima** dell'integrazione, oppure direttamente sulla tabella concatenata. "
      ]
    },
    {
      "cell_type": "markdown",
      "metadata": {
        "id": "rBxNAttwNSmi"
      },
      "source": [
        "**Tip**: confrontate i due schemi per capire quali siano le colonne non comuni. Attenzione!!! Potrebbero anche esserci colonne che sembrano non comuni, ma in realtà contengono la stessa tipologia di informazione e hanno solo nomi diversi!!"
      ]
    },
    {
      "cell_type": "code",
      "execution_count": 411,
      "metadata": {
        "id": "GSR1g0gSNSmi",
        "colab": {
          "base_uri": "https://localhost:8080/"
        },
        "outputId": "c237aa2b-6e80-4777-8011-d15dfde59ebe"
      },
      "outputs": [
        {
          "output_type": "stream",
          "name": "stdout",
          "text": [
            "Prima:\n",
            "(4715, 25)\n",
            "Dopo:\n",
            "(4715, 21)\n"
          ]
        }
      ],
      "source": [
        "# ... completare qui ...\n",
        "print(\"Prima:\")\n",
        "print(integrated_titles.shape)\n",
        "integrated_titles = integrated_titles.drop(columns=[\"listed_in\", \"director\", \"description\", \"cast\"], axis=1)\n",
        "\n",
        "# Stampo le dimensioni della nuova tabella (ci si aspetta 4 colonne in meno)\n",
        "print(\"Dopo:\")\n",
        "print(integrated_titles.shape)"
      ]
    },
    {
      "cell_type": "markdown",
      "metadata": {
        "id": "AnmjnMpRNSmj"
      },
      "source": [
        "Andiamo ora alla ricerca di eventuali colonne che contengono la stessa informazione. Guardate in particolare (type, show_type),  (country, production_countries), (date_added, from)"
      ]
    },
    {
      "cell_type": "code",
      "execution_count": 412,
      "metadata": {
        "id": "zteaVSdnNSmj",
        "colab": {
          "base_uri": "https://localhost:8080/"
        },
        "outputId": "56e70ed8-1f21-40fc-b533-9546de9b71de"
      },
      "outputs": [
        {
          "output_type": "execute_result",
          "data": {
            "text/plain": [
              "1"
            ]
          },
          "metadata": {},
          "execution_count": 412
        }
      ],
      "source": [
        "# ...completare qui ...\n",
        "index = integrated_titles[\"show_type\"].notnull()\n",
        "values = integrated_titles[\"show_type\"][index]\n",
        "\n",
        "### loc permette di sovrascrivere senza warning, sovrascrivo la colonna type\n",
        "# (type, show_type)\n",
        "integrated_titles.loc[index, \"type\"] = values\n",
        "integrated_titles = integrated_titles.drop(columns=[\"show_type\"], axis=1)\n",
        "integrated_titles[\"type\"].isnull().sum()\n",
        "\n",
        "### Ripeto per le altre due coppie\n",
        "# (country, production_countries)\n",
        "index = integrated_titles[\"production_countries\"].notnull()\n",
        "values = integrated_titles[\"production_countries\"][index]\n",
        "integrated_titles.loc[index, \"country\"] = values\n",
        "integrated_titles = integrated_titles.drop(columns=[\"production_countries\"], axis=1)\n",
        "integrated_titles[\"country\"].isnull().sum()\n",
        "\n",
        "# (date_added, from)\n",
        "index = integrated_titles[\"from\"].notnull()\n",
        "values = integrated_titles[\"from\"][index]\n",
        "integrated_titles.loc[index, \"date_added\"] = values\n",
        "integrated_titles = integrated_titles.drop(columns=[\"from\"], axis=1)\n",
        "integrated_titles[\"date_added\"].isnull().sum()"
      ]
    },
    {
      "cell_type": "markdown",
      "metadata": {
        "id": "29LGKkt2NSmj"
      },
      "source": [
        "Infine, ci sono colonne che già ora possiamo giudicare inutili?\n",
        "\n",
        "per buttare via una colonna, usiamo la funzione drop di pandas "
      ]
    },
    {
      "cell_type": "code",
      "execution_count": 413,
      "metadata": {
        "id": "HVNsjHiKNSmj",
        "colab": {
          "base_uri": "https://localhost:8080/"
        },
        "outputId": "9bcfecf1-bd17-4dde-82b7-70298856ef86"
      },
      "outputs": [
        {
          "output_type": "stream",
          "name": "stdout",
          "text": [
            "Prima:\n",
            "(4715, 18)\n",
            "Dopo:\n",
            "(4715, 17)\n"
          ]
        }
      ],
      "source": [
        "# ...completare qui ...\n",
        "#integrated_titles.info()\n",
        "\n",
        "print(\"Prima:\")\n",
        "print(integrated_titles.shape)\n",
        "# Oltre quelle precedentemente rimosse, rimuovo 'age_certification' non utile ai fini di questo notebook\n",
        "integrated_titles = integrated_titles.drop(columns=[\"age_certification\"], axis=1)\n",
        "print(\"Dopo:\")\n",
        "print(integrated_titles.shape)"
      ]
    },
    {
      "cell_type": "markdown",
      "metadata": {
        "id": "Vb5EMhQSZV9j"
      },
      "source": [
        "### Carichiamo altre due tabelle, che forniscono fonti di informazioni aggiuntive"
      ]
    },
    {
      "cell_type": "code",
      "execution_count": 414,
      "metadata": {
        "id": "xNhJkeO8ZV9j"
      },
      "outputs": [],
      "source": [
        "netflix_credits = pd.read_csv(\"netflix_credits.csv\")\n",
        "disney_credits = pd.read_csv(\"disney_credits.csv\")"
      ]
    },
    {
      "cell_type": "markdown",
      "metadata": {
        "id": "0HutxQdgccHo"
      },
      "source": [
        "come sempre, stampiamo le prime righe di ciascun dataFrame "
      ]
    },
    {
      "cell_type": "code",
      "execution_count": 415,
      "metadata": {
        "id": "H4y2GU8dZV9j",
        "colab": {
          "base_uri": "https://localhost:8080/",
          "height": 206
        },
        "outputId": "777be658-7077-4233-ca5d-fbba69c7a534"
      },
      "outputs": [
        {
          "output_type": "execute_result",
          "data": {
            "text/plain": [
              "   person_id       id                name                  character   role\n",
              "0       3180  tm82169  Sylvester Stallone      Robert \"Rocky\" Balboa  ACTOR\n",
              "1       7748  tm82169         Talia Shire  Adrianna \"Adrian\" Pennino  ACTOR\n",
              "2       7749  tm82169          Burt Young             Paulie Pennino  ACTOR\n",
              "3       7750  tm82169       Carl Weathers               Apollo Creed  ACTOR\n",
              "4       7751  tm82169    Burgess Meredith            Mickey Goldmill  ACTOR"
            ],
            "text/html": [
              "\n",
              "  <div id=\"df-9062851a-a67a-4e7a-b920-b33f3ad87918\">\n",
              "    <div class=\"colab-df-container\">\n",
              "      <div>\n",
              "<style scoped>\n",
              "    .dataframe tbody tr th:only-of-type {\n",
              "        vertical-align: middle;\n",
              "    }\n",
              "\n",
              "    .dataframe tbody tr th {\n",
              "        vertical-align: top;\n",
              "    }\n",
              "\n",
              "    .dataframe thead th {\n",
              "        text-align: right;\n",
              "    }\n",
              "</style>\n",
              "<table border=\"1\" class=\"dataframe\">\n",
              "  <thead>\n",
              "    <tr style=\"text-align: right;\">\n",
              "      <th></th>\n",
              "      <th>person_id</th>\n",
              "      <th>id</th>\n",
              "      <th>name</th>\n",
              "      <th>character</th>\n",
              "      <th>role</th>\n",
              "    </tr>\n",
              "  </thead>\n",
              "  <tbody>\n",
              "    <tr>\n",
              "      <th>0</th>\n",
              "      <td>3180</td>\n",
              "      <td>tm82169</td>\n",
              "      <td>Sylvester Stallone</td>\n",
              "      <td>Robert \"Rocky\" Balboa</td>\n",
              "      <td>ACTOR</td>\n",
              "    </tr>\n",
              "    <tr>\n",
              "      <th>1</th>\n",
              "      <td>7748</td>\n",
              "      <td>tm82169</td>\n",
              "      <td>Talia Shire</td>\n",
              "      <td>Adrianna \"Adrian\" Pennino</td>\n",
              "      <td>ACTOR</td>\n",
              "    </tr>\n",
              "    <tr>\n",
              "      <th>2</th>\n",
              "      <td>7749</td>\n",
              "      <td>tm82169</td>\n",
              "      <td>Burt Young</td>\n",
              "      <td>Paulie Pennino</td>\n",
              "      <td>ACTOR</td>\n",
              "    </tr>\n",
              "    <tr>\n",
              "      <th>3</th>\n",
              "      <td>7750</td>\n",
              "      <td>tm82169</td>\n",
              "      <td>Carl Weathers</td>\n",
              "      <td>Apollo Creed</td>\n",
              "      <td>ACTOR</td>\n",
              "    </tr>\n",
              "    <tr>\n",
              "      <th>4</th>\n",
              "      <td>7751</td>\n",
              "      <td>tm82169</td>\n",
              "      <td>Burgess Meredith</td>\n",
              "      <td>Mickey Goldmill</td>\n",
              "      <td>ACTOR</td>\n",
              "    </tr>\n",
              "  </tbody>\n",
              "</table>\n",
              "</div>\n",
              "      <button class=\"colab-df-convert\" onclick=\"convertToInteractive('df-9062851a-a67a-4e7a-b920-b33f3ad87918')\"\n",
              "              title=\"Convert this dataframe to an interactive table.\"\n",
              "              style=\"display:none;\">\n",
              "        \n",
              "  <svg xmlns=\"http://www.w3.org/2000/svg\" height=\"24px\"viewBox=\"0 0 24 24\"\n",
              "       width=\"24px\">\n",
              "    <path d=\"M0 0h24v24H0V0z\" fill=\"none\"/>\n",
              "    <path d=\"M18.56 5.44l.94 2.06.94-2.06 2.06-.94-2.06-.94-.94-2.06-.94 2.06-2.06.94zm-11 1L8.5 8.5l.94-2.06 2.06-.94-2.06-.94L8.5 2.5l-.94 2.06-2.06.94zm10 10l.94 2.06.94-2.06 2.06-.94-2.06-.94-.94-2.06-.94 2.06-2.06.94z\"/><path d=\"M17.41 7.96l-1.37-1.37c-.4-.4-.92-.59-1.43-.59-.52 0-1.04.2-1.43.59L10.3 9.45l-7.72 7.72c-.78.78-.78 2.05 0 2.83L4 21.41c.39.39.9.59 1.41.59.51 0 1.02-.2 1.41-.59l7.78-7.78 2.81-2.81c.8-.78.8-2.07 0-2.86zM5.41 20L4 18.59l7.72-7.72 1.47 1.35L5.41 20z\"/>\n",
              "  </svg>\n",
              "      </button>\n",
              "      \n",
              "  <style>\n",
              "    .colab-df-container {\n",
              "      display:flex;\n",
              "      flex-wrap:wrap;\n",
              "      gap: 12px;\n",
              "    }\n",
              "\n",
              "    .colab-df-convert {\n",
              "      background-color: #E8F0FE;\n",
              "      border: none;\n",
              "      border-radius: 50%;\n",
              "      cursor: pointer;\n",
              "      display: none;\n",
              "      fill: #1967D2;\n",
              "      height: 32px;\n",
              "      padding: 0 0 0 0;\n",
              "      width: 32px;\n",
              "    }\n",
              "\n",
              "    .colab-df-convert:hover {\n",
              "      background-color: #E2EBFA;\n",
              "      box-shadow: 0px 1px 2px rgba(60, 64, 67, 0.3), 0px 1px 3px 1px rgba(60, 64, 67, 0.15);\n",
              "      fill: #174EA6;\n",
              "    }\n",
              "\n",
              "    [theme=dark] .colab-df-convert {\n",
              "      background-color: #3B4455;\n",
              "      fill: #D2E3FC;\n",
              "    }\n",
              "\n",
              "    [theme=dark] .colab-df-convert:hover {\n",
              "      background-color: #434B5C;\n",
              "      box-shadow: 0px 1px 3px 1px rgba(0, 0, 0, 0.15);\n",
              "      filter: drop-shadow(0px 1px 2px rgba(0, 0, 0, 0.3));\n",
              "      fill: #FFFFFF;\n",
              "    }\n",
              "  </style>\n",
              "\n",
              "      <script>\n",
              "        const buttonEl =\n",
              "          document.querySelector('#df-9062851a-a67a-4e7a-b920-b33f3ad87918 button.colab-df-convert');\n",
              "        buttonEl.style.display =\n",
              "          google.colab.kernel.accessAllowed ? 'block' : 'none';\n",
              "\n",
              "        async function convertToInteractive(key) {\n",
              "          const element = document.querySelector('#df-9062851a-a67a-4e7a-b920-b33f3ad87918');\n",
              "          const dataTable =\n",
              "            await google.colab.kernel.invokeFunction('convertToInteractive',\n",
              "                                                     [key], {});\n",
              "          if (!dataTable) return;\n",
              "\n",
              "          const docLinkHtml = 'Like what you see? Visit the ' +\n",
              "            '<a target=\"_blank\" href=https://colab.research.google.com/notebooks/data_table.ipynb>data table notebook</a>'\n",
              "            + ' to learn more about interactive tables.';\n",
              "          element.innerHTML = '';\n",
              "          dataTable['output_type'] = 'display_data';\n",
              "          await google.colab.output.renderOutput(dataTable, element);\n",
              "          const docLink = document.createElement('div');\n",
              "          docLink.innerHTML = docLinkHtml;\n",
              "          element.appendChild(docLink);\n",
              "        }\n",
              "      </script>\n",
              "    </div>\n",
              "  </div>\n",
              "  "
            ]
          },
          "metadata": {},
          "execution_count": 415
        }
      ],
      "source": [
        "netflix_credits.head()"
      ]
    },
    {
      "cell_type": "code",
      "execution_count": 416,
      "metadata": {
        "id": "ABJCMEkdcjHZ",
        "colab": {
          "base_uri": "https://localhost:8080/",
          "height": 206
        },
        "outputId": "7014a72c-90e2-43b9-f1fd-b39826f1d22b"
      },
      "outputs": [
        {
          "output_type": "execute_result",
          "data": {
            "text/plain": [
              "   person_id       id            name         character   role\n",
              "0      35549  tm89464  Maureen O'Hara      Doris Walker  ACTOR\n",
              "1      57832  tm89464      John Payne       Fred Gailey  ACTOR\n",
              "2      57833  tm89464    Edmund Gwenn      Kris Kringle  ACTOR\n",
              "3      25096  tm89464    Natalie Wood      Susan Walker  ACTOR\n",
              "4      27185  tm89464     Porter Hall  Granville Sawyer  ACTOR"
            ],
            "text/html": [
              "\n",
              "  <div id=\"df-3ad468a4-e7f2-4e0f-841f-967d5079f69b\">\n",
              "    <div class=\"colab-df-container\">\n",
              "      <div>\n",
              "<style scoped>\n",
              "    .dataframe tbody tr th:only-of-type {\n",
              "        vertical-align: middle;\n",
              "    }\n",
              "\n",
              "    .dataframe tbody tr th {\n",
              "        vertical-align: top;\n",
              "    }\n",
              "\n",
              "    .dataframe thead th {\n",
              "        text-align: right;\n",
              "    }\n",
              "</style>\n",
              "<table border=\"1\" class=\"dataframe\">\n",
              "  <thead>\n",
              "    <tr style=\"text-align: right;\">\n",
              "      <th></th>\n",
              "      <th>person_id</th>\n",
              "      <th>id</th>\n",
              "      <th>name</th>\n",
              "      <th>character</th>\n",
              "      <th>role</th>\n",
              "    </tr>\n",
              "  </thead>\n",
              "  <tbody>\n",
              "    <tr>\n",
              "      <th>0</th>\n",
              "      <td>35549</td>\n",
              "      <td>tm89464</td>\n",
              "      <td>Maureen O'Hara</td>\n",
              "      <td>Doris Walker</td>\n",
              "      <td>ACTOR</td>\n",
              "    </tr>\n",
              "    <tr>\n",
              "      <th>1</th>\n",
              "      <td>57832</td>\n",
              "      <td>tm89464</td>\n",
              "      <td>John Payne</td>\n",
              "      <td>Fred Gailey</td>\n",
              "      <td>ACTOR</td>\n",
              "    </tr>\n",
              "    <tr>\n",
              "      <th>2</th>\n",
              "      <td>57833</td>\n",
              "      <td>tm89464</td>\n",
              "      <td>Edmund Gwenn</td>\n",
              "      <td>Kris Kringle</td>\n",
              "      <td>ACTOR</td>\n",
              "    </tr>\n",
              "    <tr>\n",
              "      <th>3</th>\n",
              "      <td>25096</td>\n",
              "      <td>tm89464</td>\n",
              "      <td>Natalie Wood</td>\n",
              "      <td>Susan Walker</td>\n",
              "      <td>ACTOR</td>\n",
              "    </tr>\n",
              "    <tr>\n",
              "      <th>4</th>\n",
              "      <td>27185</td>\n",
              "      <td>tm89464</td>\n",
              "      <td>Porter Hall</td>\n",
              "      <td>Granville Sawyer</td>\n",
              "      <td>ACTOR</td>\n",
              "    </tr>\n",
              "  </tbody>\n",
              "</table>\n",
              "</div>\n",
              "      <button class=\"colab-df-convert\" onclick=\"convertToInteractive('df-3ad468a4-e7f2-4e0f-841f-967d5079f69b')\"\n",
              "              title=\"Convert this dataframe to an interactive table.\"\n",
              "              style=\"display:none;\">\n",
              "        \n",
              "  <svg xmlns=\"http://www.w3.org/2000/svg\" height=\"24px\"viewBox=\"0 0 24 24\"\n",
              "       width=\"24px\">\n",
              "    <path d=\"M0 0h24v24H0V0z\" fill=\"none\"/>\n",
              "    <path d=\"M18.56 5.44l.94 2.06.94-2.06 2.06-.94-2.06-.94-.94-2.06-.94 2.06-2.06.94zm-11 1L8.5 8.5l.94-2.06 2.06-.94-2.06-.94L8.5 2.5l-.94 2.06-2.06.94zm10 10l.94 2.06.94-2.06 2.06-.94-2.06-.94-.94-2.06-.94 2.06-2.06.94z\"/><path d=\"M17.41 7.96l-1.37-1.37c-.4-.4-.92-.59-1.43-.59-.52 0-1.04.2-1.43.59L10.3 9.45l-7.72 7.72c-.78.78-.78 2.05 0 2.83L4 21.41c.39.39.9.59 1.41.59.51 0 1.02-.2 1.41-.59l7.78-7.78 2.81-2.81c.8-.78.8-2.07 0-2.86zM5.41 20L4 18.59l7.72-7.72 1.47 1.35L5.41 20z\"/>\n",
              "  </svg>\n",
              "      </button>\n",
              "      \n",
              "  <style>\n",
              "    .colab-df-container {\n",
              "      display:flex;\n",
              "      flex-wrap:wrap;\n",
              "      gap: 12px;\n",
              "    }\n",
              "\n",
              "    .colab-df-convert {\n",
              "      background-color: #E8F0FE;\n",
              "      border: none;\n",
              "      border-radius: 50%;\n",
              "      cursor: pointer;\n",
              "      display: none;\n",
              "      fill: #1967D2;\n",
              "      height: 32px;\n",
              "      padding: 0 0 0 0;\n",
              "      width: 32px;\n",
              "    }\n",
              "\n",
              "    .colab-df-convert:hover {\n",
              "      background-color: #E2EBFA;\n",
              "      box-shadow: 0px 1px 2px rgba(60, 64, 67, 0.3), 0px 1px 3px 1px rgba(60, 64, 67, 0.15);\n",
              "      fill: #174EA6;\n",
              "    }\n",
              "\n",
              "    [theme=dark] .colab-df-convert {\n",
              "      background-color: #3B4455;\n",
              "      fill: #D2E3FC;\n",
              "    }\n",
              "\n",
              "    [theme=dark] .colab-df-convert:hover {\n",
              "      background-color: #434B5C;\n",
              "      box-shadow: 0px 1px 3px 1px rgba(0, 0, 0, 0.15);\n",
              "      filter: drop-shadow(0px 1px 2px rgba(0, 0, 0, 0.3));\n",
              "      fill: #FFFFFF;\n",
              "    }\n",
              "  </style>\n",
              "\n",
              "      <script>\n",
              "        const buttonEl =\n",
              "          document.querySelector('#df-3ad468a4-e7f2-4e0f-841f-967d5079f69b button.colab-df-convert');\n",
              "        buttonEl.style.display =\n",
              "          google.colab.kernel.accessAllowed ? 'block' : 'none';\n",
              "\n",
              "        async function convertToInteractive(key) {\n",
              "          const element = document.querySelector('#df-3ad468a4-e7f2-4e0f-841f-967d5079f69b');\n",
              "          const dataTable =\n",
              "            await google.colab.kernel.invokeFunction('convertToInteractive',\n",
              "                                                     [key], {});\n",
              "          if (!dataTable) return;\n",
              "\n",
              "          const docLinkHtml = 'Like what you see? Visit the ' +\n",
              "            '<a target=\"_blank\" href=https://colab.research.google.com/notebooks/data_table.ipynb>data table notebook</a>'\n",
              "            + ' to learn more about interactive tables.';\n",
              "          element.innerHTML = '';\n",
              "          dataTable['output_type'] = 'display_data';\n",
              "          await google.colab.output.renderOutput(dataTable, element);\n",
              "          const docLink = document.createElement('div');\n",
              "          docLink.innerHTML = docLinkHtml;\n",
              "          element.appendChild(docLink);\n",
              "        }\n",
              "      </script>\n",
              "    </div>\n",
              "  </div>\n",
              "  "
            ]
          },
          "metadata": {},
          "execution_count": 416
        }
      ],
      "source": [
        "disney_credits.head()"
      ]
    },
    {
      "cell_type": "markdown",
      "metadata": {
        "id": "70SWWdYzZV9j"
      },
      "source": [
        "Possiamo osservare che le tabelle credits e titles, hanno informazioni complementari.  In particolare, credits riporta delle informazinoi aggiuntive riguardanti attori e carattere interpretato. "
      ]
    },
    {
      "cell_type": "markdown",
      "metadata": {
        "id": "F2V9spDlNSmk"
      },
      "source": [
        "Come prima, procediamo con l'integrazione delle due tabelle, che questa volta è più facile (lo schema è proprio lo stesso!)"
      ]
    },
    {
      "cell_type": "code",
      "execution_count": 417,
      "metadata": {
        "id": "cL_PStFsNSmk",
        "colab": {
          "base_uri": "https://localhost:8080/"
        },
        "outputId": "1fe7f978-3722-4e15-9a19-75604f507f8e"
      },
      "outputs": [
        {
          "output_type": "stream",
          "name": "stdout",
          "text": [
            "(80383, 5)\n",
            "(30408, 5)\n",
            "(110791, 5)\n"
          ]
        }
      ],
      "source": [
        "#completare qui\n",
        "\n",
        "# Concateno (aggiungo righe) da una tabella all'altra\n",
        "integrated_credits = pd.concat([netflix_credits, disney_credits])\n",
        "\n",
        "# Le colonne erano e rimangono le medesime, sommo le righe\n",
        "# integrated_credits.info()\n",
        "print(netflix_credits.shape)\n",
        "print(disney_credits.shape)\n",
        "print(integrated_credits.shape)"
      ]
    },
    {
      "cell_type": "markdown",
      "metadata": {
        "id": "bn2-knciNSmk"
      },
      "source": [
        "Data la complementarietà delle informazioni che troviamo nelle cartelle titles e credits, possiamo decidere di fare un **join** tra le due tabelle, per includere tutte le informazioni in un unico dataset. \n"
      ]
    },
    {
      "cell_type": "code",
      "execution_count": 418,
      "metadata": {
        "id": "oOPshZZFZV9j"
      },
      "outputs": [],
      "source": [
        "# ...completare qui usando la funzione merge per fare il join\n",
        "# In questo caso il merge unisce le tabelle solo dove presente l'attributo di join, dunque il numero di righe risultante può variare\n",
        "final_table = pd.merge(integrated_titles, integrated_credits, how='inner', left_on='id', right_on='id')"
      ]
    },
    {
      "cell_type": "markdown",
      "metadata": {
        "id": "k-q96gyMdTv7"
      },
      "source": [
        "verifichiamo cosa sia successo guardando le dimensioni di ciascun dataframe"
      ]
    },
    {
      "cell_type": "code",
      "execution_count": 419,
      "metadata": {
        "id": "rMi4zVX4dWjV",
        "colab": {
          "base_uri": "https://localhost:8080/"
        },
        "outputId": "a7b27ac1-db62-44ad-f7f1-d45edf974787"
      },
      "outputs": [
        {
          "output_type": "stream",
          "name": "stdout",
          "text": [
            "(66189, 21)\n",
            "<class 'pandas.core.frame.DataFrame'>\n",
            "Int64Index: 66189 entries, 0 to 66188\n",
            "Data columns (total 21 columns):\n",
            " #   Column           Non-Null Count  Dtype  \n",
            "---  ------           --------------  -----  \n",
            " 0   Unnamed: 0       66189 non-null  int64  \n",
            " 1   id               66189 non-null  object \n",
            " 2   title            66189 non-null  object \n",
            " 3   type             66189 non-null  object \n",
            " 4   release_year     66189 non-null  int64  \n",
            " 5   runtime          66189 non-null  int64  \n",
            " 6   genres           66189 non-null  object \n",
            " 7   seasons          11529 non-null  float64\n",
            " 8   imdb_id          62221 non-null  object \n",
            " 9   imdb_score       61938 non-null  float64\n",
            " 10  imdb_votes       61901 non-null  float64\n",
            " 11  tmdb_popularity  66189 non-null  float64\n",
            " 12  tmdb_score       65664 non-null  float64\n",
            " 13  country          66189 non-null  object \n",
            " 14  date_added       66188 non-null  object \n",
            " 15  rating           66159 non-null  object \n",
            " 16  duration         66187 non-null  object \n",
            " 17  person_id        66189 non-null  int64  \n",
            " 18  name             66189 non-null  object \n",
            " 19  character        59130 non-null  object \n",
            " 20  role             66189 non-null  object \n",
            "dtypes: float64(5), int64(4), object(12)\n",
            "memory usage: 11.1+ MB\n"
          ]
        }
      ],
      "source": [
        "#completare qui \n",
        "# Notiamo che le righe risultanti sono diverse dal numero ottenuto dalla concatenazione\n",
        "print(final_table.shape)\n",
        "final_table.info()"
      ]
    },
    {
      "cell_type": "markdown",
      "metadata": {
        "id": "lJCbPSjPdi6t"
      },
      "source": [
        "vi tornano le dimensioni?"
      ]
    },
    {
      "cell_type": "code",
      "execution_count": 420,
      "metadata": {
        "id": "vBDmqgPHdcHe",
        "colab": {
          "base_uri": "https://localhost:8080/",
          "height": 384
        },
        "outputId": "75ed111b-abd2-43ef-82d7-6c82eeec9ab9"
      },
      "outputs": [
        {
          "output_type": "execute_result",
          "data": {
            "text/plain": [
              "   Unnamed: 0       id  title   type  release_year  runtime  \\\n",
              "0           1  tm82169  Rocky  MOVIE          1976      119   \n",
              "1           1  tm82169  Rocky  MOVIE          1976      119   \n",
              "2           1  tm82169  Rocky  MOVIE          1976      119   \n",
              "3           1  tm82169  Rocky  MOVIE          1976      119   \n",
              "4           1  tm82169  Rocky  MOVIE          1976      119   \n",
              "\n",
              "               genres  seasons    imdb_id  imdb_score  ...  tmdb_popularity  \\\n",
              "0  ['drama', 'sport']      NaN  tt0075148         8.1  ...           99.713   \n",
              "1  ['drama', 'sport']      NaN  tt0075148         8.1  ...           99.713   \n",
              "2  ['drama', 'sport']      NaN  tt0075148         8.1  ...           99.713   \n",
              "3  ['drama', 'sport']      NaN  tt0075148         8.1  ...           99.713   \n",
              "4  ['drama', 'sport']      NaN  tt0075148         8.1  ...           99.713   \n",
              "\n",
              "   tmdb_score  country      date_added rating duration person_id  \\\n",
              "0       7.783   ['US']  August 1, 2019     PG  120 min      3180   \n",
              "1       7.783   ['US']  August 1, 2019     PG  120 min      7748   \n",
              "2       7.783   ['US']  August 1, 2019     PG  120 min      7749   \n",
              "3       7.783   ['US']  August 1, 2019     PG  120 min      7750   \n",
              "4       7.783   ['US']  August 1, 2019     PG  120 min      7751   \n",
              "\n",
              "                 name                  character   role  \n",
              "0  Sylvester Stallone      Robert \"Rocky\" Balboa  ACTOR  \n",
              "1         Talia Shire  Adrianna \"Adrian\" Pennino  ACTOR  \n",
              "2          Burt Young             Paulie Pennino  ACTOR  \n",
              "3       Carl Weathers               Apollo Creed  ACTOR  \n",
              "4    Burgess Meredith            Mickey Goldmill  ACTOR  \n",
              "\n",
              "[5 rows x 21 columns]"
            ],
            "text/html": [
              "\n",
              "  <div id=\"df-cb667bff-6123-4df1-9b65-4dc175a0161d\">\n",
              "    <div class=\"colab-df-container\">\n",
              "      <div>\n",
              "<style scoped>\n",
              "    .dataframe tbody tr th:only-of-type {\n",
              "        vertical-align: middle;\n",
              "    }\n",
              "\n",
              "    .dataframe tbody tr th {\n",
              "        vertical-align: top;\n",
              "    }\n",
              "\n",
              "    .dataframe thead th {\n",
              "        text-align: right;\n",
              "    }\n",
              "</style>\n",
              "<table border=\"1\" class=\"dataframe\">\n",
              "  <thead>\n",
              "    <tr style=\"text-align: right;\">\n",
              "      <th></th>\n",
              "      <th>Unnamed: 0</th>\n",
              "      <th>id</th>\n",
              "      <th>title</th>\n",
              "      <th>type</th>\n",
              "      <th>release_year</th>\n",
              "      <th>runtime</th>\n",
              "      <th>genres</th>\n",
              "      <th>seasons</th>\n",
              "      <th>imdb_id</th>\n",
              "      <th>imdb_score</th>\n",
              "      <th>...</th>\n",
              "      <th>tmdb_popularity</th>\n",
              "      <th>tmdb_score</th>\n",
              "      <th>country</th>\n",
              "      <th>date_added</th>\n",
              "      <th>rating</th>\n",
              "      <th>duration</th>\n",
              "      <th>person_id</th>\n",
              "      <th>name</th>\n",
              "      <th>character</th>\n",
              "      <th>role</th>\n",
              "    </tr>\n",
              "  </thead>\n",
              "  <tbody>\n",
              "    <tr>\n",
              "      <th>0</th>\n",
              "      <td>1</td>\n",
              "      <td>tm82169</td>\n",
              "      <td>Rocky</td>\n",
              "      <td>MOVIE</td>\n",
              "      <td>1976</td>\n",
              "      <td>119</td>\n",
              "      <td>['drama', 'sport']</td>\n",
              "      <td>NaN</td>\n",
              "      <td>tt0075148</td>\n",
              "      <td>8.1</td>\n",
              "      <td>...</td>\n",
              "      <td>99.713</td>\n",
              "      <td>7.783</td>\n",
              "      <td>['US']</td>\n",
              "      <td>August 1, 2019</td>\n",
              "      <td>PG</td>\n",
              "      <td>120 min</td>\n",
              "      <td>3180</td>\n",
              "      <td>Sylvester Stallone</td>\n",
              "      <td>Robert \"Rocky\" Balboa</td>\n",
              "      <td>ACTOR</td>\n",
              "    </tr>\n",
              "    <tr>\n",
              "      <th>1</th>\n",
              "      <td>1</td>\n",
              "      <td>tm82169</td>\n",
              "      <td>Rocky</td>\n",
              "      <td>MOVIE</td>\n",
              "      <td>1976</td>\n",
              "      <td>119</td>\n",
              "      <td>['drama', 'sport']</td>\n",
              "      <td>NaN</td>\n",
              "      <td>tt0075148</td>\n",
              "      <td>8.1</td>\n",
              "      <td>...</td>\n",
              "      <td>99.713</td>\n",
              "      <td>7.783</td>\n",
              "      <td>['US']</td>\n",
              "      <td>August 1, 2019</td>\n",
              "      <td>PG</td>\n",
              "      <td>120 min</td>\n",
              "      <td>7748</td>\n",
              "      <td>Talia Shire</td>\n",
              "      <td>Adrianna \"Adrian\" Pennino</td>\n",
              "      <td>ACTOR</td>\n",
              "    </tr>\n",
              "    <tr>\n",
              "      <th>2</th>\n",
              "      <td>1</td>\n",
              "      <td>tm82169</td>\n",
              "      <td>Rocky</td>\n",
              "      <td>MOVIE</td>\n",
              "      <td>1976</td>\n",
              "      <td>119</td>\n",
              "      <td>['drama', 'sport']</td>\n",
              "      <td>NaN</td>\n",
              "      <td>tt0075148</td>\n",
              "      <td>8.1</td>\n",
              "      <td>...</td>\n",
              "      <td>99.713</td>\n",
              "      <td>7.783</td>\n",
              "      <td>['US']</td>\n",
              "      <td>August 1, 2019</td>\n",
              "      <td>PG</td>\n",
              "      <td>120 min</td>\n",
              "      <td>7749</td>\n",
              "      <td>Burt Young</td>\n",
              "      <td>Paulie Pennino</td>\n",
              "      <td>ACTOR</td>\n",
              "    </tr>\n",
              "    <tr>\n",
              "      <th>3</th>\n",
              "      <td>1</td>\n",
              "      <td>tm82169</td>\n",
              "      <td>Rocky</td>\n",
              "      <td>MOVIE</td>\n",
              "      <td>1976</td>\n",
              "      <td>119</td>\n",
              "      <td>['drama', 'sport']</td>\n",
              "      <td>NaN</td>\n",
              "      <td>tt0075148</td>\n",
              "      <td>8.1</td>\n",
              "      <td>...</td>\n",
              "      <td>99.713</td>\n",
              "      <td>7.783</td>\n",
              "      <td>['US']</td>\n",
              "      <td>August 1, 2019</td>\n",
              "      <td>PG</td>\n",
              "      <td>120 min</td>\n",
              "      <td>7750</td>\n",
              "      <td>Carl Weathers</td>\n",
              "      <td>Apollo Creed</td>\n",
              "      <td>ACTOR</td>\n",
              "    </tr>\n",
              "    <tr>\n",
              "      <th>4</th>\n",
              "      <td>1</td>\n",
              "      <td>tm82169</td>\n",
              "      <td>Rocky</td>\n",
              "      <td>MOVIE</td>\n",
              "      <td>1976</td>\n",
              "      <td>119</td>\n",
              "      <td>['drama', 'sport']</td>\n",
              "      <td>NaN</td>\n",
              "      <td>tt0075148</td>\n",
              "      <td>8.1</td>\n",
              "      <td>...</td>\n",
              "      <td>99.713</td>\n",
              "      <td>7.783</td>\n",
              "      <td>['US']</td>\n",
              "      <td>August 1, 2019</td>\n",
              "      <td>PG</td>\n",
              "      <td>120 min</td>\n",
              "      <td>7751</td>\n",
              "      <td>Burgess Meredith</td>\n",
              "      <td>Mickey Goldmill</td>\n",
              "      <td>ACTOR</td>\n",
              "    </tr>\n",
              "  </tbody>\n",
              "</table>\n",
              "<p>5 rows × 21 columns</p>\n",
              "</div>\n",
              "      <button class=\"colab-df-convert\" onclick=\"convertToInteractive('df-cb667bff-6123-4df1-9b65-4dc175a0161d')\"\n",
              "              title=\"Convert this dataframe to an interactive table.\"\n",
              "              style=\"display:none;\">\n",
              "        \n",
              "  <svg xmlns=\"http://www.w3.org/2000/svg\" height=\"24px\"viewBox=\"0 0 24 24\"\n",
              "       width=\"24px\">\n",
              "    <path d=\"M0 0h24v24H0V0z\" fill=\"none\"/>\n",
              "    <path d=\"M18.56 5.44l.94 2.06.94-2.06 2.06-.94-2.06-.94-.94-2.06-.94 2.06-2.06.94zm-11 1L8.5 8.5l.94-2.06 2.06-.94-2.06-.94L8.5 2.5l-.94 2.06-2.06.94zm10 10l.94 2.06.94-2.06 2.06-.94-2.06-.94-.94-2.06-.94 2.06-2.06.94z\"/><path d=\"M17.41 7.96l-1.37-1.37c-.4-.4-.92-.59-1.43-.59-.52 0-1.04.2-1.43.59L10.3 9.45l-7.72 7.72c-.78.78-.78 2.05 0 2.83L4 21.41c.39.39.9.59 1.41.59.51 0 1.02-.2 1.41-.59l7.78-7.78 2.81-2.81c.8-.78.8-2.07 0-2.86zM5.41 20L4 18.59l7.72-7.72 1.47 1.35L5.41 20z\"/>\n",
              "  </svg>\n",
              "      </button>\n",
              "      \n",
              "  <style>\n",
              "    .colab-df-container {\n",
              "      display:flex;\n",
              "      flex-wrap:wrap;\n",
              "      gap: 12px;\n",
              "    }\n",
              "\n",
              "    .colab-df-convert {\n",
              "      background-color: #E8F0FE;\n",
              "      border: none;\n",
              "      border-radius: 50%;\n",
              "      cursor: pointer;\n",
              "      display: none;\n",
              "      fill: #1967D2;\n",
              "      height: 32px;\n",
              "      padding: 0 0 0 0;\n",
              "      width: 32px;\n",
              "    }\n",
              "\n",
              "    .colab-df-convert:hover {\n",
              "      background-color: #E2EBFA;\n",
              "      box-shadow: 0px 1px 2px rgba(60, 64, 67, 0.3), 0px 1px 3px 1px rgba(60, 64, 67, 0.15);\n",
              "      fill: #174EA6;\n",
              "    }\n",
              "\n",
              "    [theme=dark] .colab-df-convert {\n",
              "      background-color: #3B4455;\n",
              "      fill: #D2E3FC;\n",
              "    }\n",
              "\n",
              "    [theme=dark] .colab-df-convert:hover {\n",
              "      background-color: #434B5C;\n",
              "      box-shadow: 0px 1px 3px 1px rgba(0, 0, 0, 0.15);\n",
              "      filter: drop-shadow(0px 1px 2px rgba(0, 0, 0, 0.3));\n",
              "      fill: #FFFFFF;\n",
              "    }\n",
              "  </style>\n",
              "\n",
              "      <script>\n",
              "        const buttonEl =\n",
              "          document.querySelector('#df-cb667bff-6123-4df1-9b65-4dc175a0161d button.colab-df-convert');\n",
              "        buttonEl.style.display =\n",
              "          google.colab.kernel.accessAllowed ? 'block' : 'none';\n",
              "\n",
              "        async function convertToInteractive(key) {\n",
              "          const element = document.querySelector('#df-cb667bff-6123-4df1-9b65-4dc175a0161d');\n",
              "          const dataTable =\n",
              "            await google.colab.kernel.invokeFunction('convertToInteractive',\n",
              "                                                     [key], {});\n",
              "          if (!dataTable) return;\n",
              "\n",
              "          const docLinkHtml = 'Like what you see? Visit the ' +\n",
              "            '<a target=\"_blank\" href=https://colab.research.google.com/notebooks/data_table.ipynb>data table notebook</a>'\n",
              "            + ' to learn more about interactive tables.';\n",
              "          element.innerHTML = '';\n",
              "          dataTable['output_type'] = 'display_data';\n",
              "          await google.colab.output.renderOutput(dataTable, element);\n",
              "          const docLink = document.createElement('div');\n",
              "          docLink.innerHTML = docLinkHtml;\n",
              "          element.appendChild(docLink);\n",
              "        }\n",
              "      </script>\n",
              "    </div>\n",
              "  </div>\n",
              "  "
            ]
          },
          "metadata": {},
          "execution_count": 420
        }
      ],
      "source": [
        "final_table.head()"
      ]
    },
    {
      "cell_type": "code",
      "execution_count": 421,
      "metadata": {
        "id": "tCbnL0GteRBu",
        "colab": {
          "base_uri": "https://localhost:8080/"
        },
        "outputId": "cb4e1064-2d6a-47b0-bc5d-611db0ab1494"
      },
      "outputs": [
        {
          "output_type": "stream",
          "name": "stdout",
          "text": [
            "Index(['Unnamed: 0', 'id', 'title', 'type', 'release_year', 'runtime',\n",
            "       'genres', 'seasons', 'imdb_id', 'imdb_score', 'imdb_votes',\n",
            "       'tmdb_popularity', 'tmdb_score', 'country', 'date_added', 'rating',\n",
            "       'duration', 'person_id', 'name', 'character', 'role'],\n",
            "      dtype='object')\n"
          ]
        }
      ],
      "source": [
        "print(final_table.columns)"
      ]
    },
    {
      "cell_type": "markdown",
      "metadata": {
        "id": "GUUSplPleVfj"
      },
      "source": [
        "e visualizziamo gli eventuali elementi mancanti"
      ]
    },
    {
      "cell_type": "code",
      "execution_count": 422,
      "metadata": {
        "id": "75NrhkX2eawX",
        "colab": {
          "base_uri": "https://localhost:8080/"
        },
        "outputId": "4563ac93-6540-4a9e-a3bf-7c1238098c2e"
      },
      "outputs": [
        {
          "output_type": "execute_result",
          "data": {
            "text/plain": [
              "Unnamed: 0             0\n",
              "id                     0\n",
              "title                  0\n",
              "type                   0\n",
              "release_year           0\n",
              "runtime                0\n",
              "genres                 0\n",
              "seasons            54660\n",
              "imdb_id             3968\n",
              "imdb_score          4251\n",
              "imdb_votes          4288\n",
              "tmdb_popularity        0\n",
              "tmdb_score           525\n",
              "country                0\n",
              "date_added             1\n",
              "rating                30\n",
              "duration               2\n",
              "person_id              0\n",
              "name                   0\n",
              "character           7059\n",
              "role                   0\n",
              "dtype: int64"
            ]
          },
          "metadata": {},
          "execution_count": 422
        }
      ],
      "source": [
        "final_table.isnull().sum()"
      ]
    },
    {
      "cell_type": "markdown",
      "metadata": {
        "id": "cvqfIQfrfcpm"
      },
      "source": [
        "concentriamoci sulla colonna date_added, intanto visualizzandola:"
      ]
    },
    {
      "cell_type": "code",
      "execution_count": 423,
      "metadata": {
        "id": "2zTGFy67fiFE",
        "colab": {
          "base_uri": "https://localhost:8080/"
        },
        "outputId": "cb2f1368-8daf-4870-bbfe-64c730c76c34"
      },
      "outputs": [
        {
          "output_type": "stream",
          "name": "stdout",
          "text": [
            "0            August 1, 2019\n",
            "1            August 1, 2019\n",
            "2            August 1, 2019\n",
            "3            August 1, 2019\n",
            "4            August 1, 2019\n",
            "                ...        \n",
            "66184      October 20, 2021\n",
            "66185    September 15, 2021\n",
            "66186          May 28, 2021\n",
            "66187          May 28, 2021\n",
            "66188      October 29, 2021\n",
            "Name: date_added, Length: 66189, dtype: object\n"
          ]
        }
      ],
      "source": [
        "#completare qui \n",
        "print(final_table['date_added'])"
      ]
    },
    {
      "cell_type": "markdown",
      "metadata": {
        "id": "az3xlX6FfqfU"
      },
      "source": [
        "vediamo che giorni mesi e anni sono presenti. Potrebbe essere utile, però, separare queste informazioni, incorporandole in tre colonne diverse. "
      ]
    },
    {
      "cell_type": "markdown",
      "metadata": {
        "id": "491M0dHYgHjN"
      },
      "source": [
        "Facciamolo insieme, con due diversi passi:\n",
        "\n",
        "1. dobbiamo trasformare questa colonna in formato 'datetime' utilizzando la funzione di pandas 'to_datetime'"
      ]
    },
    {
      "cell_type": "code",
      "execution_count": 424,
      "metadata": {
        "id": "XnT_PqJMfwVC"
      },
      "outputs": [],
      "source": [
        "#completare qui \n",
        "final_table['date_added'] = pd.to_datetime(final_table['date_added'])"
      ]
    },
    {
      "cell_type": "code",
      "execution_count": 425,
      "metadata": {
        "id": "clsUuXUlgEWX",
        "colab": {
          "base_uri": "https://localhost:8080/"
        },
        "outputId": "a0fc4234-843f-40ad-eea8-e086c3ec30e6"
      },
      "outputs": [
        {
          "output_type": "stream",
          "name": "stdout",
          "text": [
            "0       2019-08-01\n",
            "1       2019-08-01\n",
            "2       2019-08-01\n",
            "3       2019-08-01\n",
            "4       2019-08-01\n",
            "           ...    \n",
            "66184   2021-10-20\n",
            "66185   2021-09-15\n",
            "66186   2021-05-28\n",
            "66187   2021-05-28\n",
            "66188   2021-10-29\n",
            "Name: date_added, Length: 66189, dtype: datetime64[ns]\n"
          ]
        }
      ],
      "source": [
        "print(final_table['date_added'])"
      ]
    },
    {
      "cell_type": "markdown",
      "metadata": {
        "id": "Tc-ZdT3xgTpW"
      },
      "source": [
        "poi, possiamo separare le varie entrate in tre nuove colonne, che si chiameranno day, month e year. Bisogna fare colonna.dt.year e cambiare poi l'ultimo metodo "
      ]
    },
    {
      "cell_type": "code",
      "execution_count": 426,
      "metadata": {
        "id": "ux4LoOeEgZvX",
        "colab": {
          "base_uri": "https://localhost:8080/"
        },
        "outputId": "4011ec89-fc35-464e-df49-4893fbf9d172"
      },
      "outputs": [
        {
          "output_type": "stream",
          "name": "stdout",
          "text": [
            "<class 'pandas.core.frame.DataFrame'>\n",
            "Int64Index: 66189 entries, 0 to 66188\n",
            "Data columns (total 24 columns):\n",
            " #   Column           Non-Null Count  Dtype         \n",
            "---  ------           --------------  -----         \n",
            " 0   Unnamed: 0       66189 non-null  int64         \n",
            " 1   id               66189 non-null  object        \n",
            " 2   title            66189 non-null  object        \n",
            " 3   type             66189 non-null  object        \n",
            " 4   release_year     66189 non-null  int64         \n",
            " 5   runtime          66189 non-null  int64         \n",
            " 6   genres           66189 non-null  object        \n",
            " 7   seasons          11529 non-null  float64       \n",
            " 8   imdb_id          62221 non-null  object        \n",
            " 9   imdb_score       61938 non-null  float64       \n",
            " 10  imdb_votes       61901 non-null  float64       \n",
            " 11  tmdb_popularity  66189 non-null  float64       \n",
            " 12  tmdb_score       65664 non-null  float64       \n",
            " 13  country          66189 non-null  object        \n",
            " 14  date_added       66188 non-null  datetime64[ns]\n",
            " 15  rating           66159 non-null  object        \n",
            " 16  duration         66187 non-null  object        \n",
            " 17  person_id        66189 non-null  int64         \n",
            " 18  name             66189 non-null  object        \n",
            " 19  character        59130 non-null  object        \n",
            " 20  role             66189 non-null  object        \n",
            " 21  day              66188 non-null  float64       \n",
            " 22  month            66188 non-null  float64       \n",
            " 23  year             66188 non-null  float64       \n",
            "dtypes: datetime64[ns](1), float64(8), int64(4), object(11)\n",
            "memory usage: 12.6+ MB\n"
          ]
        }
      ],
      "source": [
        "#completare qui \n",
        "final_table['day'] = final_table['date_added'].dt.day\n",
        "final_table['month'] = final_table['date_added'].dt.month\n",
        "final_table['year'] = final_table['date_added'].dt.year\n",
        "\n",
        "final_table.info()"
      ]
    },
    {
      "cell_type": "markdown",
      "metadata": {
        "id": "E0F5obochLBn"
      },
      "source": [
        "ora visualizziamo il risultato"
      ]
    },
    {
      "cell_type": "code",
      "execution_count": 427,
      "metadata": {
        "id": "5iD8Tx4phNLw",
        "colab": {
          "base_uri": "https://localhost:8080/",
          "height": 236
        },
        "outputId": "23837b4a-bcfb-4267-9099-271fafe80685"
      },
      "outputs": [
        {
          "output_type": "execute_result",
          "data": {
            "text/plain": [
              "   Unnamed: 0       id  title   type  release_year  runtime  \\\n",
              "0           1  tm82169  Rocky  MOVIE          1976      119   \n",
              "1           1  tm82169  Rocky  MOVIE          1976      119   \n",
              "2           1  tm82169  Rocky  MOVIE          1976      119   \n",
              "3           1  tm82169  Rocky  MOVIE          1976      119   \n",
              "4           1  tm82169  Rocky  MOVIE          1976      119   \n",
              "\n",
              "               genres  seasons    imdb_id  imdb_score  ...  date_added  \\\n",
              "0  ['drama', 'sport']      NaN  tt0075148         8.1  ...  2019-08-01   \n",
              "1  ['drama', 'sport']      NaN  tt0075148         8.1  ...  2019-08-01   \n",
              "2  ['drama', 'sport']      NaN  tt0075148         8.1  ...  2019-08-01   \n",
              "3  ['drama', 'sport']      NaN  tt0075148         8.1  ...  2019-08-01   \n",
              "4  ['drama', 'sport']      NaN  tt0075148         8.1  ...  2019-08-01   \n",
              "\n",
              "   rating  duration person_id                name                  character  \\\n",
              "0      PG   120 min      3180  Sylvester Stallone      Robert \"Rocky\" Balboa   \n",
              "1      PG   120 min      7748         Talia Shire  Adrianna \"Adrian\" Pennino   \n",
              "2      PG   120 min      7749          Burt Young             Paulie Pennino   \n",
              "3      PG   120 min      7750       Carl Weathers               Apollo Creed   \n",
              "4      PG   120 min      7751    Burgess Meredith            Mickey Goldmill   \n",
              "\n",
              "    role  day month    year  \n",
              "0  ACTOR  1.0   8.0  2019.0  \n",
              "1  ACTOR  1.0   8.0  2019.0  \n",
              "2  ACTOR  1.0   8.0  2019.0  \n",
              "3  ACTOR  1.0   8.0  2019.0  \n",
              "4  ACTOR  1.0   8.0  2019.0  \n",
              "\n",
              "[5 rows x 24 columns]"
            ],
            "text/html": [
              "\n",
              "  <div id=\"df-308792f8-59ed-4d76-9ca7-bdf1144e70c2\">\n",
              "    <div class=\"colab-df-container\">\n",
              "      <div>\n",
              "<style scoped>\n",
              "    .dataframe tbody tr th:only-of-type {\n",
              "        vertical-align: middle;\n",
              "    }\n",
              "\n",
              "    .dataframe tbody tr th {\n",
              "        vertical-align: top;\n",
              "    }\n",
              "\n",
              "    .dataframe thead th {\n",
              "        text-align: right;\n",
              "    }\n",
              "</style>\n",
              "<table border=\"1\" class=\"dataframe\">\n",
              "  <thead>\n",
              "    <tr style=\"text-align: right;\">\n",
              "      <th></th>\n",
              "      <th>Unnamed: 0</th>\n",
              "      <th>id</th>\n",
              "      <th>title</th>\n",
              "      <th>type</th>\n",
              "      <th>release_year</th>\n",
              "      <th>runtime</th>\n",
              "      <th>genres</th>\n",
              "      <th>seasons</th>\n",
              "      <th>imdb_id</th>\n",
              "      <th>imdb_score</th>\n",
              "      <th>...</th>\n",
              "      <th>date_added</th>\n",
              "      <th>rating</th>\n",
              "      <th>duration</th>\n",
              "      <th>person_id</th>\n",
              "      <th>name</th>\n",
              "      <th>character</th>\n",
              "      <th>role</th>\n",
              "      <th>day</th>\n",
              "      <th>month</th>\n",
              "      <th>year</th>\n",
              "    </tr>\n",
              "  </thead>\n",
              "  <tbody>\n",
              "    <tr>\n",
              "      <th>0</th>\n",
              "      <td>1</td>\n",
              "      <td>tm82169</td>\n",
              "      <td>Rocky</td>\n",
              "      <td>MOVIE</td>\n",
              "      <td>1976</td>\n",
              "      <td>119</td>\n",
              "      <td>['drama', 'sport']</td>\n",
              "      <td>NaN</td>\n",
              "      <td>tt0075148</td>\n",
              "      <td>8.1</td>\n",
              "      <td>...</td>\n",
              "      <td>2019-08-01</td>\n",
              "      <td>PG</td>\n",
              "      <td>120 min</td>\n",
              "      <td>3180</td>\n",
              "      <td>Sylvester Stallone</td>\n",
              "      <td>Robert \"Rocky\" Balboa</td>\n",
              "      <td>ACTOR</td>\n",
              "      <td>1.0</td>\n",
              "      <td>8.0</td>\n",
              "      <td>2019.0</td>\n",
              "    </tr>\n",
              "    <tr>\n",
              "      <th>1</th>\n",
              "      <td>1</td>\n",
              "      <td>tm82169</td>\n",
              "      <td>Rocky</td>\n",
              "      <td>MOVIE</td>\n",
              "      <td>1976</td>\n",
              "      <td>119</td>\n",
              "      <td>['drama', 'sport']</td>\n",
              "      <td>NaN</td>\n",
              "      <td>tt0075148</td>\n",
              "      <td>8.1</td>\n",
              "      <td>...</td>\n",
              "      <td>2019-08-01</td>\n",
              "      <td>PG</td>\n",
              "      <td>120 min</td>\n",
              "      <td>7748</td>\n",
              "      <td>Talia Shire</td>\n",
              "      <td>Adrianna \"Adrian\" Pennino</td>\n",
              "      <td>ACTOR</td>\n",
              "      <td>1.0</td>\n",
              "      <td>8.0</td>\n",
              "      <td>2019.0</td>\n",
              "    </tr>\n",
              "    <tr>\n",
              "      <th>2</th>\n",
              "      <td>1</td>\n",
              "      <td>tm82169</td>\n",
              "      <td>Rocky</td>\n",
              "      <td>MOVIE</td>\n",
              "      <td>1976</td>\n",
              "      <td>119</td>\n",
              "      <td>['drama', 'sport']</td>\n",
              "      <td>NaN</td>\n",
              "      <td>tt0075148</td>\n",
              "      <td>8.1</td>\n",
              "      <td>...</td>\n",
              "      <td>2019-08-01</td>\n",
              "      <td>PG</td>\n",
              "      <td>120 min</td>\n",
              "      <td>7749</td>\n",
              "      <td>Burt Young</td>\n",
              "      <td>Paulie Pennino</td>\n",
              "      <td>ACTOR</td>\n",
              "      <td>1.0</td>\n",
              "      <td>8.0</td>\n",
              "      <td>2019.0</td>\n",
              "    </tr>\n",
              "    <tr>\n",
              "      <th>3</th>\n",
              "      <td>1</td>\n",
              "      <td>tm82169</td>\n",
              "      <td>Rocky</td>\n",
              "      <td>MOVIE</td>\n",
              "      <td>1976</td>\n",
              "      <td>119</td>\n",
              "      <td>['drama', 'sport']</td>\n",
              "      <td>NaN</td>\n",
              "      <td>tt0075148</td>\n",
              "      <td>8.1</td>\n",
              "      <td>...</td>\n",
              "      <td>2019-08-01</td>\n",
              "      <td>PG</td>\n",
              "      <td>120 min</td>\n",
              "      <td>7750</td>\n",
              "      <td>Carl Weathers</td>\n",
              "      <td>Apollo Creed</td>\n",
              "      <td>ACTOR</td>\n",
              "      <td>1.0</td>\n",
              "      <td>8.0</td>\n",
              "      <td>2019.0</td>\n",
              "    </tr>\n",
              "    <tr>\n",
              "      <th>4</th>\n",
              "      <td>1</td>\n",
              "      <td>tm82169</td>\n",
              "      <td>Rocky</td>\n",
              "      <td>MOVIE</td>\n",
              "      <td>1976</td>\n",
              "      <td>119</td>\n",
              "      <td>['drama', 'sport']</td>\n",
              "      <td>NaN</td>\n",
              "      <td>tt0075148</td>\n",
              "      <td>8.1</td>\n",
              "      <td>...</td>\n",
              "      <td>2019-08-01</td>\n",
              "      <td>PG</td>\n",
              "      <td>120 min</td>\n",
              "      <td>7751</td>\n",
              "      <td>Burgess Meredith</td>\n",
              "      <td>Mickey Goldmill</td>\n",
              "      <td>ACTOR</td>\n",
              "      <td>1.0</td>\n",
              "      <td>8.0</td>\n",
              "      <td>2019.0</td>\n",
              "    </tr>\n",
              "  </tbody>\n",
              "</table>\n",
              "<p>5 rows × 24 columns</p>\n",
              "</div>\n",
              "      <button class=\"colab-df-convert\" onclick=\"convertToInteractive('df-308792f8-59ed-4d76-9ca7-bdf1144e70c2')\"\n",
              "              title=\"Convert this dataframe to an interactive table.\"\n",
              "              style=\"display:none;\">\n",
              "        \n",
              "  <svg xmlns=\"http://www.w3.org/2000/svg\" height=\"24px\"viewBox=\"0 0 24 24\"\n",
              "       width=\"24px\">\n",
              "    <path d=\"M0 0h24v24H0V0z\" fill=\"none\"/>\n",
              "    <path d=\"M18.56 5.44l.94 2.06.94-2.06 2.06-.94-2.06-.94-.94-2.06-.94 2.06-2.06.94zm-11 1L8.5 8.5l.94-2.06 2.06-.94-2.06-.94L8.5 2.5l-.94 2.06-2.06.94zm10 10l.94 2.06.94-2.06 2.06-.94-2.06-.94-.94-2.06-.94 2.06-2.06.94z\"/><path d=\"M17.41 7.96l-1.37-1.37c-.4-.4-.92-.59-1.43-.59-.52 0-1.04.2-1.43.59L10.3 9.45l-7.72 7.72c-.78.78-.78 2.05 0 2.83L4 21.41c.39.39.9.59 1.41.59.51 0 1.02-.2 1.41-.59l7.78-7.78 2.81-2.81c.8-.78.8-2.07 0-2.86zM5.41 20L4 18.59l7.72-7.72 1.47 1.35L5.41 20z\"/>\n",
              "  </svg>\n",
              "      </button>\n",
              "      \n",
              "  <style>\n",
              "    .colab-df-container {\n",
              "      display:flex;\n",
              "      flex-wrap:wrap;\n",
              "      gap: 12px;\n",
              "    }\n",
              "\n",
              "    .colab-df-convert {\n",
              "      background-color: #E8F0FE;\n",
              "      border: none;\n",
              "      border-radius: 50%;\n",
              "      cursor: pointer;\n",
              "      display: none;\n",
              "      fill: #1967D2;\n",
              "      height: 32px;\n",
              "      padding: 0 0 0 0;\n",
              "      width: 32px;\n",
              "    }\n",
              "\n",
              "    .colab-df-convert:hover {\n",
              "      background-color: #E2EBFA;\n",
              "      box-shadow: 0px 1px 2px rgba(60, 64, 67, 0.3), 0px 1px 3px 1px rgba(60, 64, 67, 0.15);\n",
              "      fill: #174EA6;\n",
              "    }\n",
              "\n",
              "    [theme=dark] .colab-df-convert {\n",
              "      background-color: #3B4455;\n",
              "      fill: #D2E3FC;\n",
              "    }\n",
              "\n",
              "    [theme=dark] .colab-df-convert:hover {\n",
              "      background-color: #434B5C;\n",
              "      box-shadow: 0px 1px 3px 1px rgba(0, 0, 0, 0.15);\n",
              "      filter: drop-shadow(0px 1px 2px rgba(0, 0, 0, 0.3));\n",
              "      fill: #FFFFFF;\n",
              "    }\n",
              "  </style>\n",
              "\n",
              "      <script>\n",
              "        const buttonEl =\n",
              "          document.querySelector('#df-308792f8-59ed-4d76-9ca7-bdf1144e70c2 button.colab-df-convert');\n",
              "        buttonEl.style.display =\n",
              "          google.colab.kernel.accessAllowed ? 'block' : 'none';\n",
              "\n",
              "        async function convertToInteractive(key) {\n",
              "          const element = document.querySelector('#df-308792f8-59ed-4d76-9ca7-bdf1144e70c2');\n",
              "          const dataTable =\n",
              "            await google.colab.kernel.invokeFunction('convertToInteractive',\n",
              "                                                     [key], {});\n",
              "          if (!dataTable) return;\n",
              "\n",
              "          const docLinkHtml = 'Like what you see? Visit the ' +\n",
              "            '<a target=\"_blank\" href=https://colab.research.google.com/notebooks/data_table.ipynb>data table notebook</a>'\n",
              "            + ' to learn more about interactive tables.';\n",
              "          element.innerHTML = '';\n",
              "          dataTable['output_type'] = 'display_data';\n",
              "          await google.colab.output.renderOutput(dataTable, element);\n",
              "          const docLink = document.createElement('div');\n",
              "          docLink.innerHTML = docLinkHtml;\n",
              "          element.appendChild(docLink);\n",
              "        }\n",
              "      </script>\n",
              "    </div>\n",
              "  </div>\n",
              "  "
            ]
          },
          "metadata": {},
          "execution_count": 427
        }
      ],
      "source": [
        "final_table.head()"
      ]
    },
    {
      "cell_type": "markdown",
      "metadata": {
        "id": "78UR3HdDhzbU"
      },
      "source": [
        "ora creiamo una copia della tabella, contenente soltanto i film.\n"
      ]
    },
    {
      "cell_type": "code",
      "execution_count": 428,
      "metadata": {
        "id": "Tqced5m5pc3I",
        "colab": {
          "base_uri": "https://localhost:8080/"
        },
        "outputId": "9bc5c8e1-f0c3-4297-ccdd-a48ec4a252be"
      },
      "outputs": [
        {
          "output_type": "stream",
          "name": "stdout",
          "text": [
            "(54252, 24)\n",
            "0\n"
          ]
        }
      ],
      "source": [
        "#completare qui \n",
        "index = (final_table['type'] == 'MOVIE') & (final_table['duration'].str.contains('min'))\n",
        "movies = final_table[index].copy()\n",
        "\n",
        "print(movies.shape)\n",
        "\n",
        "# Check aggiuntivo se ogni riga di movies ha season NaN\n",
        "print(movies['seasons'].notnull().values.sum()) # mi aspetto zero valori non nulli"
      ]
    },
    {
      "cell_type": "markdown",
      "metadata": {
        "id": "Z6VJ79D-rOpN"
      },
      "source": [
        "a questo punto, possiamo modificare la durata in ore, per prima cosa eliminiamo la parola minuti "
      ]
    },
    {
      "cell_type": "code",
      "execution_count": 429,
      "metadata": {
        "id": "kX-nZ_uuqfJ0"
      },
      "outputs": [],
      "source": [
        "#completare qui \n",
        "movies['duration'] = movies['duration'].replace(' min', '', regex=True)\n",
        "#print(movies['duration'].to_string(index=False))"
      ]
    },
    {
      "cell_type": "markdown",
      "metadata": {
        "id": "0zJvzJTBrUGc"
      },
      "source": [
        "quindi dividere per 60 (dopo conversione float)"
      ]
    },
    {
      "cell_type": "code",
      "execution_count": 430,
      "metadata": {
        "id": "c6qvwq79rWoC"
      },
      "outputs": [],
      "source": [
        "#completare qui \n",
        "movies['duration'] = movies['duration'].astype(float)/60.0"
      ]
    },
    {
      "cell_type": "markdown",
      "metadata": {
        "id": "uwyl2zc2rkEj"
      },
      "source": [
        "e finalmente, aggiungere un suffisso per indicare le ore, per esempio 'hours', tornando a stringa"
      ]
    },
    {
      "cell_type": "code",
      "execution_count": 431,
      "metadata": {
        "id": "DpMqGoB-ro4Z"
      },
      "outputs": [],
      "source": [
        "#completare qui \n",
        "# Ottengo il suffisso con una sempice concatenazione fra stringhe\n",
        "movies['duration'] = movies['duration'].to_string(index=False) + \" hours\""
      ]
    },
    {
      "cell_type": "markdown",
      "metadata": {
        "id": "Xt1P2LRDrzM3"
      },
      "source": [
        "stampiamo il risultato finale "
      ]
    },
    {
      "cell_type": "code",
      "execution_count": 432,
      "metadata": {
        "id": "5kPidNo8r0d2",
        "colab": {
          "base_uri": "https://localhost:8080/"
        },
        "outputId": "2187cf21-1b6e-4994-9fbf-6518258f04ec"
      },
      "outputs": [
        {
          "output_type": "stream",
          "name": "stdout",
          "text": [
            "0        2.000000\\n2.000000\\n2.000000\\n2.000000\\n2.0000...\n",
            "1        2.000000\\n2.000000\\n2.000000\\n2.000000\\n2.0000...\n",
            "2        2.000000\\n2.000000\\n2.000000\\n2.000000\\n2.0000...\n",
            "3        2.000000\\n2.000000\\n2.000000\\n2.000000\\n2.0000...\n",
            "4        2.000000\\n2.000000\\n2.000000\\n2.000000\\n2.0000...\n",
            "                               ...                        \n",
            "66178    2.000000\\n2.000000\\n2.000000\\n2.000000\\n2.0000...\n",
            "66179    2.000000\\n2.000000\\n2.000000\\n2.000000\\n2.0000...\n",
            "66180    2.000000\\n2.000000\\n2.000000\\n2.000000\\n2.0000...\n",
            "66181    2.000000\\n2.000000\\n2.000000\\n2.000000\\n2.0000...\n",
            "66188    2.000000\\n2.000000\\n2.000000\\n2.000000\\n2.0000...\n",
            "Name: duration, Length: 54252, dtype: object\n"
          ]
        }
      ],
      "source": [
        "print(movies['duration'])"
      ]
    },
    {
      "cell_type": "markdown",
      "metadata": {
        "id": "G712OMBtezly"
      },
      "source": [
        "concentriamoci sulla colonna release_year. Innanzitutto eliminiamo le righe dove questa informazinoe non sia presente. Usiamo la funzione dropna di pandas \n",
        "dropna(axis = , subset = [nome colonna])"
      ]
    },
    {
      "cell_type": "code",
      "execution_count": 433,
      "metadata": {
        "id": "f8j3ID7de6Qm",
        "colab": {
          "base_uri": "https://localhost:8080/"
        },
        "outputId": "bc333043-3e8e-4b7f-ab9d-fb6a6773ac4e"
      },
      "outputs": [
        {
          "output_type": "stream",
          "name": "stdout",
          "text": [
            "Unnamed: 0             0\n",
            "id                     0\n",
            "title                  0\n",
            "type                   0\n",
            "release_year           0\n",
            "runtime                0\n",
            "genres                 0\n",
            "seasons            54252\n",
            "imdb_id             3339\n",
            "imdb_score          3541\n",
            "imdb_votes          3578\n",
            "tmdb_popularity        0\n",
            "tmdb_score           392\n",
            "country                0\n",
            "date_added             0\n",
            "rating                 3\n",
            "duration               0\n",
            "person_id              0\n",
            "name                   0\n",
            "character           5620\n",
            "role                   0\n",
            "day                    0\n",
            "month                  0\n",
            "year                   0\n",
            "dtype: int64\n"
          ]
        }
      ],
      "source": [
        "#completare qui \n",
        "print(movies.isnull().sum())\n",
        "final_table_clean = movies.dropna(axis=0, subset=['release_year'])"
      ]
    },
    {
      "cell_type": "code",
      "execution_count": 434,
      "metadata": {
        "id": "-nfeOBwUfAVp",
        "colab": {
          "base_uri": "https://localhost:8080/"
        },
        "outputId": "b4bcd39e-72f8-4c50-e05f-b15b694eb351"
      },
      "outputs": [
        {
          "output_type": "execute_result",
          "data": {
            "text/plain": [
              "Unnamed: 0             0\n",
              "id                     0\n",
              "title                  0\n",
              "type                   0\n",
              "release_year           0\n",
              "runtime                0\n",
              "genres                 0\n",
              "seasons            54252\n",
              "imdb_id             3339\n",
              "imdb_score          3541\n",
              "imdb_votes          3578\n",
              "tmdb_popularity        0\n",
              "tmdb_score           392\n",
              "country                0\n",
              "date_added             0\n",
              "rating                 3\n",
              "duration               0\n",
              "person_id              0\n",
              "name                   0\n",
              "character           5620\n",
              "role                   0\n",
              "day                    0\n",
              "month                  0\n",
              "year                   0\n",
              "dtype: int64"
            ]
          },
          "metadata": {},
          "execution_count": 434
        }
      ],
      "source": [
        "final_table_clean.isnull().sum()"
      ]
    },
    {
      "cell_type": "markdown",
      "metadata": {
        "id": "1kQOPx7WfI7B"
      },
      "source": [
        "vediamo ora la colonna release_year_y"
      ]
    },
    {
      "cell_type": "code",
      "execution_count": 435,
      "metadata": {
        "id": "iQtrZCsmfM5d",
        "colab": {
          "base_uri": "https://localhost:8080/"
        },
        "outputId": "04c47208-5f84-4403-a84c-cda876ad4767"
      },
      "outputs": [
        {
          "output_type": "stream",
          "name": "stdout",
          "text": [
            "0        1976\n",
            "1        1976\n",
            "2        1976\n",
            "3        1976\n",
            "4        1976\n",
            "         ... \n",
            "66178    2021\n",
            "66179    2021\n",
            "66180    2021\n",
            "66181    2021\n",
            "66188    2022\n",
            "Name: release_year, Length: 54252, dtype: int64\n"
          ]
        }
      ],
      "source": [
        "# print(final_table_clean['release_year_y'])\n",
        "\n",
        "# La colonna corretta ha qui nome 'release_year'\n",
        "print(final_table_clean['release_year'])\n",
        "\n",
        "# Nota: nella tabella movies nessuna riga presentava un valore mancante per 'release_year', dunque l'operazione di drop di righe con valori mancanti non fa nulla "
      ]
    }
  ],
  "metadata": {
    "accelerator": "GPU",
    "colab": {
      "provenance": []
    },
    "gpuClass": "standard",
    "kernelspec": {
      "display_name": "Python 3 (ipykernel)",
      "language": "python",
      "name": "python3"
    },
    "language_info": {
      "codemirror_mode": {
        "name": "ipython",
        "version": 3
      },
      "file_extension": ".py",
      "mimetype": "text/x-python",
      "name": "python",
      "nbconvert_exporter": "python",
      "pygments_lexer": "ipython3",
      "version": "3.9.13"
    }
  },
  "nbformat": 4,
  "nbformat_minor": 0
}