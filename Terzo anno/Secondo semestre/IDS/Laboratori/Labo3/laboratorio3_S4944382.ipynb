{
  "nbformat": 4,
  "nbformat_minor": 0,
  "metadata": {
    "colab": {
      "provenance": []
    },
    "kernelspec": {
      "name": "python3",
      "display_name": "Python 3"
    },
    "language_info": {
      "name": "python"
    }
  },
  "cells": [
    {
      "cell_type": "code",
      "source": [
        "import pandas as pd \n",
        "import matplotlib.pyplot as plt \n",
        "import numpy as np\n",
        "import scipy.stats as stats"
      ],
      "metadata": {
        "id": "DG6_rz0Y_1Tx"
      },
      "execution_count": 197,
      "outputs": []
    },
    {
      "cell_type": "markdown",
      "source": [
        "**Test statisici**\n",
        "\n",
        "Utilizziamo la tabella integrate_titles che abbiamo prodotto durante il primo laboratorio. Vi ricordo che abbiamo effettuato integrazione di due dataset provenienti da Disney+ e Netflix, contenenti informazioni circa film e serie tv rilasciate sulle due piattaforme di streaming. \n",
        "Il dataset integrato è stato pulito e risulta quindi pronto per ulteriori analisi. \n",
        "\n",
        "1. Importiamo il dataset:"
      ],
      "metadata": {
        "id": "QYXUP9A4_cUe"
      }
    },
    {
      "cell_type": "code",
      "execution_count": 198,
      "metadata": {
        "id": "PnExuBeH_YAz"
      },
      "outputs": [],
      "source": [
        "#codice qui \n",
        "integrate_titles = pd.read_csv(\"integrate_titles_3.csv\")"
      ]
    },
    {
      "cell_type": "markdown",
      "source": [
        "visualizziamo il dataset"
      ],
      "metadata": {
        "id": "u-nCzS4SVRf3"
      }
    },
    {
      "cell_type": "code",
      "source": [
        "#codice qui \n",
        "integrate_titles.head()"
      ],
      "metadata": {
        "id": "JNVIvuWdVS1Y",
        "colab": {
          "base_uri": "https://localhost:8080/",
          "height": 418
        },
        "outputId": "5c47c38f-5d99-4d7b-d704-72db1431b387"
      },
      "execution_count": 199,
      "outputs": [
        {
          "output_type": "execute_result",
          "data": {
            "text/plain": [
              "   Unnamed: 0.2  Unnamed: 0.1  Unnamed: 0        id  \\\n",
              "0             1             1           1   tm82169   \n",
              "1             2             2           2   tm17823   \n",
              "2             3             3           3   tm69975   \n",
              "3             4             4           4  tm127384   \n",
              "4             5             5           5   ts22164   \n",
              "\n",
              "                             title   type  release_year age_certification  \\\n",
              "0                            Rocky  MOVIE          1976                PG   \n",
              "1                           Grease  MOVIE          1978                PG   \n",
              "2                         Rocky II  MOVIE          1979                PG   \n",
              "3  Monty Python and the Holy Grail  MOVIE          1975                PG   \n",
              "4     Monty Python's Flying Circus   SHOW          1969             TV-14   \n",
              "\n",
              "   runtime                  genres  ...                    director  \\\n",
              "0      119      ['drama', 'sport']  ...            John G. Avildsen   \n",
              "1      110   ['comedy', 'romance']  ...              Randal Kleiser   \n",
              "2      119      ['drama', 'sport']  ...          Sylvester Stallone   \n",
              "3       91   ['fantasy', 'comedy']  ...  Terry Gilliam, Terry Jones   \n",
              "4       30  ['comedy', 'european']  ...                         NaN   \n",
              "\n",
              "          country  date_added  rating   duration    year  month  day  \\\n",
              "0   United States  2019-08-01      PG    120 min  2019.0    8.0  1.0   \n",
              "1   United States  2019-11-01      PG    110 min  2019.0   11.0  1.0   \n",
              "2   United States  2019-08-01      PG    119 min  2019.0    8.0  1.0   \n",
              "3  United Kingdom  2019-01-02      PG     92 min  2019.0    1.0  2.0   \n",
              "4  United Kingdom  2018-10-02   TV-14  4 Seasons  2018.0   10.0  2.0   \n",
              "\n",
              "  imdb_score_quant release_year_quant  \n",
              "0        EXCELLENT           VERY OLD  \n",
              "1        VERY GOOD           VERY OLD  \n",
              "2        VERY GOOD           VERY OLD  \n",
              "3        EXCELLENT           VERY OLD  \n",
              "4        EXCELLENT           VERY OLD  \n",
              "\n",
              "[5 rows x 27 columns]"
            ],
            "text/html": [
              "\n",
              "  <div id=\"df-44ac84b6-bae1-4228-a88e-cdaf6d44d371\">\n",
              "    <div class=\"colab-df-container\">\n",
              "      <div>\n",
              "<style scoped>\n",
              "    .dataframe tbody tr th:only-of-type {\n",
              "        vertical-align: middle;\n",
              "    }\n",
              "\n",
              "    .dataframe tbody tr th {\n",
              "        vertical-align: top;\n",
              "    }\n",
              "\n",
              "    .dataframe thead th {\n",
              "        text-align: right;\n",
              "    }\n",
              "</style>\n",
              "<table border=\"1\" class=\"dataframe\">\n",
              "  <thead>\n",
              "    <tr style=\"text-align: right;\">\n",
              "      <th></th>\n",
              "      <th>Unnamed: 0.2</th>\n",
              "      <th>Unnamed: 0.1</th>\n",
              "      <th>Unnamed: 0</th>\n",
              "      <th>id</th>\n",
              "      <th>title</th>\n",
              "      <th>type</th>\n",
              "      <th>release_year</th>\n",
              "      <th>age_certification</th>\n",
              "      <th>runtime</th>\n",
              "      <th>genres</th>\n",
              "      <th>...</th>\n",
              "      <th>director</th>\n",
              "      <th>country</th>\n",
              "      <th>date_added</th>\n",
              "      <th>rating</th>\n",
              "      <th>duration</th>\n",
              "      <th>year</th>\n",
              "      <th>month</th>\n",
              "      <th>day</th>\n",
              "      <th>imdb_score_quant</th>\n",
              "      <th>release_year_quant</th>\n",
              "    </tr>\n",
              "  </thead>\n",
              "  <tbody>\n",
              "    <tr>\n",
              "      <th>0</th>\n",
              "      <td>1</td>\n",
              "      <td>1</td>\n",
              "      <td>1</td>\n",
              "      <td>tm82169</td>\n",
              "      <td>Rocky</td>\n",
              "      <td>MOVIE</td>\n",
              "      <td>1976</td>\n",
              "      <td>PG</td>\n",
              "      <td>119</td>\n",
              "      <td>['drama', 'sport']</td>\n",
              "      <td>...</td>\n",
              "      <td>John G. Avildsen</td>\n",
              "      <td>United States</td>\n",
              "      <td>2019-08-01</td>\n",
              "      <td>PG</td>\n",
              "      <td>120 min</td>\n",
              "      <td>2019.0</td>\n",
              "      <td>8.0</td>\n",
              "      <td>1.0</td>\n",
              "      <td>EXCELLENT</td>\n",
              "      <td>VERY OLD</td>\n",
              "    </tr>\n",
              "    <tr>\n",
              "      <th>1</th>\n",
              "      <td>2</td>\n",
              "      <td>2</td>\n",
              "      <td>2</td>\n",
              "      <td>tm17823</td>\n",
              "      <td>Grease</td>\n",
              "      <td>MOVIE</td>\n",
              "      <td>1978</td>\n",
              "      <td>PG</td>\n",
              "      <td>110</td>\n",
              "      <td>['comedy', 'romance']</td>\n",
              "      <td>...</td>\n",
              "      <td>Randal Kleiser</td>\n",
              "      <td>United States</td>\n",
              "      <td>2019-11-01</td>\n",
              "      <td>PG</td>\n",
              "      <td>110 min</td>\n",
              "      <td>2019.0</td>\n",
              "      <td>11.0</td>\n",
              "      <td>1.0</td>\n",
              "      <td>VERY GOOD</td>\n",
              "      <td>VERY OLD</td>\n",
              "    </tr>\n",
              "    <tr>\n",
              "      <th>2</th>\n",
              "      <td>3</td>\n",
              "      <td>3</td>\n",
              "      <td>3</td>\n",
              "      <td>tm69975</td>\n",
              "      <td>Rocky II</td>\n",
              "      <td>MOVIE</td>\n",
              "      <td>1979</td>\n",
              "      <td>PG</td>\n",
              "      <td>119</td>\n",
              "      <td>['drama', 'sport']</td>\n",
              "      <td>...</td>\n",
              "      <td>Sylvester Stallone</td>\n",
              "      <td>United States</td>\n",
              "      <td>2019-08-01</td>\n",
              "      <td>PG</td>\n",
              "      <td>119 min</td>\n",
              "      <td>2019.0</td>\n",
              "      <td>8.0</td>\n",
              "      <td>1.0</td>\n",
              "      <td>VERY GOOD</td>\n",
              "      <td>VERY OLD</td>\n",
              "    </tr>\n",
              "    <tr>\n",
              "      <th>3</th>\n",
              "      <td>4</td>\n",
              "      <td>4</td>\n",
              "      <td>4</td>\n",
              "      <td>tm127384</td>\n",
              "      <td>Monty Python and the Holy Grail</td>\n",
              "      <td>MOVIE</td>\n",
              "      <td>1975</td>\n",
              "      <td>PG</td>\n",
              "      <td>91</td>\n",
              "      <td>['fantasy', 'comedy']</td>\n",
              "      <td>...</td>\n",
              "      <td>Terry Gilliam, Terry Jones</td>\n",
              "      <td>United Kingdom</td>\n",
              "      <td>2019-01-02</td>\n",
              "      <td>PG</td>\n",
              "      <td>92 min</td>\n",
              "      <td>2019.0</td>\n",
              "      <td>1.0</td>\n",
              "      <td>2.0</td>\n",
              "      <td>EXCELLENT</td>\n",
              "      <td>VERY OLD</td>\n",
              "    </tr>\n",
              "    <tr>\n",
              "      <th>4</th>\n",
              "      <td>5</td>\n",
              "      <td>5</td>\n",
              "      <td>5</td>\n",
              "      <td>ts22164</td>\n",
              "      <td>Monty Python's Flying Circus</td>\n",
              "      <td>SHOW</td>\n",
              "      <td>1969</td>\n",
              "      <td>TV-14</td>\n",
              "      <td>30</td>\n",
              "      <td>['comedy', 'european']</td>\n",
              "      <td>...</td>\n",
              "      <td>NaN</td>\n",
              "      <td>United Kingdom</td>\n",
              "      <td>2018-10-02</td>\n",
              "      <td>TV-14</td>\n",
              "      <td>4 Seasons</td>\n",
              "      <td>2018.0</td>\n",
              "      <td>10.0</td>\n",
              "      <td>2.0</td>\n",
              "      <td>EXCELLENT</td>\n",
              "      <td>VERY OLD</td>\n",
              "    </tr>\n",
              "  </tbody>\n",
              "</table>\n",
              "<p>5 rows × 27 columns</p>\n",
              "</div>\n",
              "      <button class=\"colab-df-convert\" onclick=\"convertToInteractive('df-44ac84b6-bae1-4228-a88e-cdaf6d44d371')\"\n",
              "              title=\"Convert this dataframe to an interactive table.\"\n",
              "              style=\"display:none;\">\n",
              "        \n",
              "  <svg xmlns=\"http://www.w3.org/2000/svg\" height=\"24px\"viewBox=\"0 0 24 24\"\n",
              "       width=\"24px\">\n",
              "    <path d=\"M0 0h24v24H0V0z\" fill=\"none\"/>\n",
              "    <path d=\"M18.56 5.44l.94 2.06.94-2.06 2.06-.94-2.06-.94-.94-2.06-.94 2.06-2.06.94zm-11 1L8.5 8.5l.94-2.06 2.06-.94-2.06-.94L8.5 2.5l-.94 2.06-2.06.94zm10 10l.94 2.06.94-2.06 2.06-.94-2.06-.94-.94-2.06-.94 2.06-2.06.94z\"/><path d=\"M17.41 7.96l-1.37-1.37c-.4-.4-.92-.59-1.43-.59-.52 0-1.04.2-1.43.59L10.3 9.45l-7.72 7.72c-.78.78-.78 2.05 0 2.83L4 21.41c.39.39.9.59 1.41.59.51 0 1.02-.2 1.41-.59l7.78-7.78 2.81-2.81c.8-.78.8-2.07 0-2.86zM5.41 20L4 18.59l7.72-7.72 1.47 1.35L5.41 20z\"/>\n",
              "  </svg>\n",
              "      </button>\n",
              "      \n",
              "  <style>\n",
              "    .colab-df-container {\n",
              "      display:flex;\n",
              "      flex-wrap:wrap;\n",
              "      gap: 12px;\n",
              "    }\n",
              "\n",
              "    .colab-df-convert {\n",
              "      background-color: #E8F0FE;\n",
              "      border: none;\n",
              "      border-radius: 50%;\n",
              "      cursor: pointer;\n",
              "      display: none;\n",
              "      fill: #1967D2;\n",
              "      height: 32px;\n",
              "      padding: 0 0 0 0;\n",
              "      width: 32px;\n",
              "    }\n",
              "\n",
              "    .colab-df-convert:hover {\n",
              "      background-color: #E2EBFA;\n",
              "      box-shadow: 0px 1px 2px rgba(60, 64, 67, 0.3), 0px 1px 3px 1px rgba(60, 64, 67, 0.15);\n",
              "      fill: #174EA6;\n",
              "    }\n",
              "\n",
              "    [theme=dark] .colab-df-convert {\n",
              "      background-color: #3B4455;\n",
              "      fill: #D2E3FC;\n",
              "    }\n",
              "\n",
              "    [theme=dark] .colab-df-convert:hover {\n",
              "      background-color: #434B5C;\n",
              "      box-shadow: 0px 1px 3px 1px rgba(0, 0, 0, 0.15);\n",
              "      filter: drop-shadow(0px 1px 2px rgba(0, 0, 0, 0.3));\n",
              "      fill: #FFFFFF;\n",
              "    }\n",
              "  </style>\n",
              "\n",
              "      <script>\n",
              "        const buttonEl =\n",
              "          document.querySelector('#df-44ac84b6-bae1-4228-a88e-cdaf6d44d371 button.colab-df-convert');\n",
              "        buttonEl.style.display =\n",
              "          google.colab.kernel.accessAllowed ? 'block' : 'none';\n",
              "\n",
              "        async function convertToInteractive(key) {\n",
              "          const element = document.querySelector('#df-44ac84b6-bae1-4228-a88e-cdaf6d44d371');\n",
              "          const dataTable =\n",
              "            await google.colab.kernel.invokeFunction('convertToInteractive',\n",
              "                                                     [key], {});\n",
              "          if (!dataTable) return;\n",
              "\n",
              "          const docLinkHtml = 'Like what you see? Visit the ' +\n",
              "            '<a target=\"_blank\" href=https://colab.research.google.com/notebooks/data_table.ipynb>data table notebook</a>'\n",
              "            + ' to learn more about interactive tables.';\n",
              "          element.innerHTML = '';\n",
              "          dataTable['output_type'] = 'display_data';\n",
              "          await google.colab.output.renderOutput(dataTable, element);\n",
              "          const docLink = document.createElement('div');\n",
              "          docLink.innerHTML = docLinkHtml;\n",
              "          element.appendChild(docLink);\n",
              "        }\n",
              "      </script>\n",
              "    </div>\n",
              "  </div>\n",
              "  "
            ]
          },
          "metadata": {},
          "execution_count": 199
        }
      ]
    },
    {
      "cell_type": "code",
      "source": [
        "#codice qui per vedere numero di elementi e informazioni sulle colonne\n",
        "integrate_titles.info()"
      ],
      "metadata": {
        "id": "yoJXIEgHFyVc",
        "colab": {
          "base_uri": "https://localhost:8080/"
        },
        "outputId": "82230747-5545-42a9-c892-270a0a98a16d"
      },
      "execution_count": 200,
      "outputs": [
        {
          "output_type": "stream",
          "name": "stdout",
          "text": [
            "<class 'pandas.core.frame.DataFrame'>\n",
            "RangeIndex: 4170 entries, 0 to 4169\n",
            "Data columns (total 27 columns):\n",
            " #   Column                Non-Null Count  Dtype  \n",
            "---  ------                --------------  -----  \n",
            " 0   Unnamed: 0.2          4170 non-null   int64  \n",
            " 1   Unnamed: 0.1          4170 non-null   int64  \n",
            " 2   Unnamed: 0            4170 non-null   int64  \n",
            " 3   id                    4170 non-null   object \n",
            " 4   title                 4170 non-null   object \n",
            " 5   type                  4170 non-null   object \n",
            " 6   release_year          4170 non-null   int64  \n",
            " 7   age_certification     2593 non-null   object \n",
            " 8   runtime               4170 non-null   int64  \n",
            " 9   genres                4170 non-null   object \n",
            " 10  production_countries  4170 non-null   object \n",
            " 11  seasons               1588 non-null   float64\n",
            " 12  imdb_id               4170 non-null   object \n",
            " 13  imdb_score            4170 non-null   float64\n",
            " 14  imdb_votes            4165 non-null   float64\n",
            " 15  tmdb_popularity       4139 non-null   float64\n",
            " 16  tmdb_score            4068 non-null   float64\n",
            " 17  director              2634 non-null   object \n",
            " 18  country               3790 non-null   object \n",
            " 19  date_added            4169 non-null   object \n",
            " 20  rating                4168 non-null   object \n",
            " 21  duration              4169 non-null   object \n",
            " 22  year                  4169 non-null   float64\n",
            " 23  month                 4169 non-null   float64\n",
            " 24  day                   4169 non-null   float64\n",
            " 25  imdb_score_quant      4170 non-null   object \n",
            " 26  release_year_quant    4170 non-null   object \n",
            "dtypes: float64(8), int64(5), object(14)\n",
            "memory usage: 879.7+ KB\n"
          ]
        }
      ]
    },
    {
      "cell_type": "markdown",
      "source": [
        "**Parte 1. Usiamo la visualizzazione per farci delle idee**\n",
        "\n",
        "Visualizziamo i valori di imdb_score, separati per type, utilizzando dei box plot. "
      ],
      "metadata": {
        "id": "fX7iVZLwdlEd"
      }
    },
    {
      "cell_type": "markdown",
      "source": [
        "prima di tutto verifichiamo che non ci siano valori nulli, come fatto la scorsa volta, eliminando eventualmente le righe con imbd_score è nullo."
      ],
      "metadata": {
        "id": "2qWOdyij8uED"
      }
    },
    {
      "cell_type": "code",
      "source": [
        "#codice qui \n",
        "integrate_titles = integrate_titles.dropna(axis=0, subset=['imdb_score'])"
      ],
      "metadata": {
        "id": "7CN1mqp58wOy"
      },
      "execution_count": 201,
      "outputs": []
    },
    {
      "cell_type": "markdown",
      "source": [
        "stessa cosa per tmdb"
      ],
      "metadata": {
        "id": "M4Ra52Xm-H7U"
      }
    },
    {
      "cell_type": "code",
      "source": [
        "#codice qui \n",
        "integrate_titles = integrate_titles.dropna(axis=0, subset=['tmdb_score'])"
      ],
      "metadata": {
        "id": "gBJulvEd-L5u"
      },
      "execution_count": 202,
      "outputs": []
    },
    {
      "cell_type": "markdown",
      "source": [
        "visualizziamo quindi, quanto richiesto (ricordiamo che la funzione da utilizzare è boxplot di pandas con column e by per il raggruppamento). "
      ],
      "metadata": {
        "id": "kPGE7Qf--V2x"
      }
    },
    {
      "cell_type": "code",
      "source": [
        "#codice qui \n",
        "integrate_titles.boxplot(column='imdb_score', by='type')\n",
        "\n",
        "# Nota: in generale, se i boxplot si sovrappongono, è molto probabile che il t-test non dia una sostanziale differenza\n",
        "# Nota2: osservo che in media gli SHOW hanno punteggio più alto dei MOVIE"
      ],
      "metadata": {
        "id": "Jl7WtQxZd117",
        "colab": {
          "base_uri": "https://localhost:8080/",
          "height": 318
        },
        "outputId": "7d4e0116-2957-49a0-f1ef-d70726486a62"
      },
      "execution_count": 203,
      "outputs": [
        {
          "output_type": "execute_result",
          "data": {
            "text/plain": [
              "<Axes: title={'center': 'imdb_score'}, xlabel='type'>"
            ]
          },
          "metadata": {},
          "execution_count": 203
        },
        {
          "output_type": "display_data",
          "data": {
            "text/plain": [
              "<Figure size 432x288 with 1 Axes>"
            ],
            "image/png": "[encoded data removed]"
          },
          "metadata": {
            "needs_background": "light"
          }
        }
      ]
    },
    {
      "cell_type": "markdown",
      "source": [
        "sembrerebbe che i due box plots si sovrappongano, ma che, in generale, la mediana della valutazione per le serie sia maggiore rispetto ai movie. \n",
        "Ripetiamo ora la stessa cosa per tmdb_score"
      ],
      "metadata": {
        "id": "-rr-jCzRfuPZ"
      }
    },
    {
      "cell_type": "code",
      "source": [
        "#codice qui \n",
        "integrate_titles.boxplot(column='tmdb_score', by='type')"
      ],
      "metadata": {
        "id": "7kZ_Ham3fyzz",
        "colab": {
          "base_uri": "https://localhost:8080/",
          "height": 318
        },
        "outputId": "ac86158f-ef02-4690-9c59-8c13638ae933"
      },
      "execution_count": 204,
      "outputs": [
        {
          "output_type": "execute_result",
          "data": {
            "text/plain": [
              "<Axes: title={'center': 'tmdb_score'}, xlabel='type'>"
            ]
          },
          "metadata": {},
          "execution_count": 204
        },
        {
          "output_type": "display_data",
          "data": {
            "text/plain": [
              "<Figure size 432x288 with 1 Axes>"
            ],
            "image/png": "[encoded data removed]"
          },
          "metadata": {
            "needs_background": "light"
          }
        }
      ]
    },
    {
      "cell_type": "markdown",
      "source": [
        "troviamo un andamento simile per il tmdb_score. \n",
        "A questo punto ci chiediamo, questa differenza è statisticamente significativa? come possiamo fare per dimostrarlo?\n",
        "\n",
        "Possiamo utilizzare un test statistico. Proviamo con un t-test. \n",
        "\n",
        "Sappiamo che si devono verificare alcune ipotesi:\n",
        "1. Campione con numero di elementi n > 30;\n",
        "2. Popolazione N almeno dieci volte superiore al campione N > 10*n.\n",
        "\n",
        "Prima di tutto, stampiamo il numero di elementi per le due classi (SHOW e MOVIE)"
      ],
      "metadata": {
        "id": "MszaocPVFhut"
      }
    },
    {
      "cell_type": "code",
      "source": [
        "#codice qui \n",
        "print('Num elementi SHOW: ', np.sum(integrate_titles['type'] == 'SHOW'))\n",
        "print('Num elementi MOVIE: ', np.sum(integrate_titles['type'] == 'MOVIE'))"
      ],
      "metadata": {
        "id": "Y397WccJFsp7",
        "colab": {
          "base_uri": "https://localhost:8080/"
        },
        "outputId": "9e9dd4c6-2565-4c4c-8cbe-44171d7b2cba"
      },
      "execution_count": 205,
      "outputs": [
        {
          "output_type": "stream",
          "name": "stdout",
          "text": [
            "Num elementi SHOW:  1543\n",
            "Num elementi MOVIE:  2525\n"
          ]
        }
      ]
    },
    {
      "cell_type": "markdown",
      "source": [
        "le ipotesi sono verificate, quindi possiamo applicare un t-test (confronto fra medie).\n",
        "\n",
        "Scegliamo un livello di significatività di 0.05 (intervallo di confidenza di 0.95). \n",
        "\n",
        "ipotesi nulla \n",
        "\n",
        "H0 = le media di imdb_score di SHOW e MOVIE non sono statisticamente diverse;\n",
        "\n",
        "ipotesi alternativa\n",
        "\n",
        "HA = le medie sono diverse.\n",
        "\n",
        "\n",
        "significatività = 0.05"
      ],
      "metadata": {
        "id": "fZSn22LOJBST"
      }
    },
    {
      "cell_type": "code",
      "source": [
        "#codice qui \n",
        "# ttest_ind() tratta campioni indipendenti, ttest_1samp() considera i campioni dipendenti (un campione contenuto nella popolazione)\n",
        "t, p_value = stats.ttest_1samp(a = integrate_titles[integrate_titles['type'] == 'MOVIE']['imdb_score'], popmean = integrate_titles[integrate_titles['type'] == 'SHOW']['imdb_score'].mean())\n",
        "print('1SAMP')\n",
        "print('Valore test: ', t)\n",
        "print('P-value: ', p_value)\n",
        "t, p_value = stats.ttest_ind(a = integrate_titles[integrate_titles['type'] == 'MOVIE']['imdb_score'], b = integrate_titles[integrate_titles['type'] == 'SHOW']['imdb_score'])\n",
        "print('IND')\n",
        "print('Valore test: ', t)\n",
        "print('P-value: ', p_value)\n",
        "\n",
        "# Osservo che la diversità in MOVIE e SHOW vista sul grafico è effettiva, rigetto l'ipotesi nulla dell'uguaglianza statistica"
      ],
      "metadata": {
        "id": "rqw8cxljJF7K",
        "colab": {
          "base_uri": "https://localhost:8080/"
        },
        "outputId": "2989cd69-1f3a-4818-cb71-a6991be93122"
      },
      "execution_count": 206,
      "outputs": [
        {
          "output_type": "stream",
          "name": "stdout",
          "text": [
            "1SAMP\n",
            "Valore test:  -37.338520624012375\n",
            "P-value:  2.461928880470485e-243\n",
            "IND\n",
            "Valore test:  -23.219093522531608\n",
            "P-value:  4.261010732299258e-112\n"
          ]
        }
      ]
    },
    {
      "cell_type": "markdown",
      "source": [
        "che cosa deduciamo da questo?"
      ],
      "metadata": {
        "id": "6zFacPrKJzh1"
      }
    },
    {
      "cell_type": "markdown",
      "source": [
        "siccome il p-value << significatività; deduciamo che possiamo rigettare l'ipotesi nulla in favore di quella alternativa."
      ],
      "metadata": {
        "id": "zWLi5UaUN6hR"
      }
    },
    {
      "cell_type": "markdown",
      "source": [
        "verifichiamo ora che la media dello score dei film sia più bassa rispetto a quella degli show. Dobbiamo usare il t-test ad una coda. Scegliamo un livello di significatività di 0.05 (intervallo di confidenza di 0.95). \n",
        "\n",
        "ipotesi nulla \n",
        "\n",
        "H0 = la media di imdb_score dei film è inferiore rispetto a quella degli show. \n",
        "\n",
        "ipotesi alternativa\n",
        "\n",
        "HA = la media di imdb_score è maggiore o uguale rispetto a quella degli show. \n",
        "\n",
        "\n",
        "significatività = 0.05"
      ],
      "metadata": {
        "id": "HgRYbJuVKXYt"
      }
    },
    {
      "cell_type": "code",
      "source": [
        "#codice qui\n",
        "t, p_value = stats.ttest_1samp(a = integrate_titles[integrate_titles['type'] == 'MOVIE']['imdb_score'], popmean = integrate_titles[integrate_titles['type'] == 'SHOW']['imdb_score'].mean(), alternative = 'greater')\n",
        "print('Valore test: ', t)\n",
        "print('P-value: ', p_value)\n",
        "\n",
        "# Nota: il p-value è maggiore di 0.05 scelto (significatività), non posso rifiutare l'ipotesi nulla: i film hanno punteggio in media inferiore rispetto agli show"
      ],
      "metadata": {
        "id": "z3KRDb8YKeN8",
        "colab": {
          "base_uri": "https://localhost:8080/"
        },
        "outputId": "20b595a9-3213-4ba6-eb72-2d8256ef3a8f"
      },
      "execution_count": 207,
      "outputs": [
        {
          "output_type": "stream",
          "name": "stdout",
          "text": [
            "Valore test:  -37.338520624012375\n",
            "P-value:  1.0\n"
          ]
        }
      ]
    },
    {
      "cell_type": "markdown",
      "source": [
        "e facciamo anche un'ultima prova come sanity check, verificando l'alternativa rimasta."
      ],
      "metadata": {
        "id": "NUA45RKlK1te"
      }
    },
    {
      "cell_type": "code",
      "source": [
        "#codice qui \n",
        "t, p_value = stats.ttest_1samp(a = integrate_titles[integrate_titles['type'] == 'MOVIE']['imdb_score'], popmean = integrate_titles[integrate_titles['type'] == 'SHOW']['imdb_score'].mean(), alternative = 'less')\n",
        "print('Valore test: ', t)\n",
        "print('P-value: ', p_value)\n",
        "\n",
        "# e infatti rigettiamo l'ipotesi nulla 'nuova' per cui i film hanno punteggio in media maggiore degli show"
      ],
      "metadata": {
        "id": "QK3sSojhK6FV",
        "colab": {
          "base_uri": "https://localhost:8080/"
        },
        "outputId": "0e0c6972-4570-414a-9e46-cbcb2c978946"
      },
      "execution_count": 208,
      "outputs": [
        {
          "output_type": "stream",
          "name": "stdout",
          "text": [
            "Valore test:  -37.338520624012375\n",
            "P-value:  1.2309644402352424e-243\n"
          ]
        }
      ]
    },
    {
      "cell_type": "markdown",
      "source": [
        "ripetete quanto appena fatto per lo score di tmdb (applicate l'ipotesi che ritenete più corretta, usando i box plots per avere l'idea precisa)."
      ],
      "metadata": {
        "id": "Fj57wBSaK7Dp"
      }
    },
    {
      "cell_type": "code",
      "source": [
        "#codice qui\n",
        "# dal box plot noto che la media dei punteggi degli show è maggiore della media dei punti dei film  \n",
        "t, p_value = stats.ttest_1samp(a = integrate_titles[integrate_titles['type'] == 'MOVIE']['tmdb_score'], popmean = integrate_titles[integrate_titles['type'] == 'SHOW']['tmdb_score'].mean(), alternative = 'greater')\n",
        "print('Valore test: ', t)\n",
        "print('P-value: ', p_value)\n",
        "\n",
        "# e noto che non possiamo, come osservato precedentemente, che non possiamo rigettare l'ipotesi"
      ],
      "metadata": {
        "id": "ZXZowjGTK-Sm",
        "colab": {
          "base_uri": "https://localhost:8080/"
        },
        "outputId": "401d7062-6ebe-4fbe-f89d-5e8043fa6efb"
      },
      "execution_count": 209,
      "outputs": [
        {
          "output_type": "stream",
          "name": "stdout",
          "text": [
            "Valore test:  -42.88133359403488\n",
            "P-value:  1.0\n"
          ]
        }
      ]
    },
    {
      "cell_type": "markdown",
      "source": [
        "adesso approfondiamo la nostra analisi, prima di tutto visualizzando lo score dei film vecchi (prima del 2010) e recenti (post 2010).\n",
        "Innanzitutto, creiamo una nuova colonna che ci dica se il film è vecchio o nuovo, secondo questa classificazione. Potremmo mettere 1 se è vecchio e 0 altrimenti. "
      ],
      "metadata": {
        "id": "QAsuGdkoK9eG"
      }
    },
    {
      "cell_type": "code",
      "source": [
        "#codice qui \n",
        "integrate_titles['recenti'] = (integrate_titles['release_year'] >= 2010).astype(int)"
      ],
      "metadata": {
        "id": "pOrPc6lELizJ"
      },
      "execution_count": 210,
      "outputs": []
    },
    {
      "cell_type": "markdown",
      "source": [
        "stampiamo il risultato (primi 50 elementi)"
      ],
      "metadata": {
        "id": "JHPeJKR0Lsm6"
      }
    },
    {
      "cell_type": "code",
      "source": [
        "#codice qui \n",
        "print(integrate_titles['recenti'].tolist()[0:50])"
      ],
      "metadata": {
        "id": "0no9_dwTLud_",
        "colab": {
          "base_uri": "https://localhost:8080/"
        },
        "outputId": "458de290-1dc2-4899-cbcc-2f2b8ea819fb"
      },
      "execution_count": 211,
      "outputs": [
        {
          "output_type": "stream",
          "name": "stdout",
          "text": [
            "[0, 0, 0, 0, 0, 0, 0, 0, 0, 0, 0, 0, 0, 0, 0, 0, 0, 0, 0, 0, 0, 1, 0, 0, 0, 0, 0, 0, 0, 0, 1, 0, 0, 0, 0, 0, 0, 0, 0, 1, 0, 0, 0, 0, 0, 0, 0, 0, 0, 0]\n"
          ]
        }
      ]
    },
    {
      "cell_type": "markdown",
      "source": [
        "quindi visualizziamo con box plot"
      ],
      "metadata": {
        "id": "m6WZGqitMisi"
      }
    },
    {
      "cell_type": "code",
      "source": [
        "#codice qui \n",
        "integrate_titles.boxplot(column='imdb_score', by='recenti')"
      ],
      "metadata": {
        "id": "arl9E7bHMlNc",
        "colab": {
          "base_uri": "https://localhost:8080/",
          "height": 318
        },
        "outputId": "c03bf247-3376-447c-b578-0515f749c5eb"
      },
      "execution_count": 212,
      "outputs": [
        {
          "output_type": "execute_result",
          "data": {
            "text/plain": [
              "<Axes: title={'center': 'imdb_score'}, xlabel='recenti'>"
            ]
          },
          "metadata": {},
          "execution_count": 212
        },
        {
          "output_type": "display_data",
          "data": {
            "text/plain": [
              "<Figure size 432x288 with 1 Axes>"
            ],
            "image/png": "[encoded data removed]"
          },
          "metadata": {
            "needs_background": "light"
          }
        }
      ]
    },
    {
      "cell_type": "markdown",
      "source": [
        "vi sembra che ci sia una differenza statistica tra le due classi che abbiamo creato?\n",
        "utilizziamo un t-test. Ripetiamo le verifiche necessarie, e poi eseguiamo il t-test. \n",
        "\n",
        "Scegliamo un livello di significatività di 0.05 (intervallo di confidenza di 0.95). \n",
        "\n",
        "ipotesi nulla \n",
        "\n",
        "H0 = le media di imdb_score dei film old e recenti non sono statisticamente diverse\n",
        "\n",
        "ipotesi alternativa\n",
        "\n",
        "HA = le medie sono diverse.\n",
        "\n",
        "\n",
        "significatività = 0.05"
      ],
      "metadata": {
        "id": "W78CXjB2Ms_-"
      }
    },
    {
      "cell_type": "code",
      "source": [
        "#codice qui\n",
        "t, p_value = stats.ttest_1samp(a = integrate_titles[integrate_titles['recenti'] == 1]['imdb_score'], popmean = integrate_titles[integrate_titles['recenti'] == 0]['imdb_score'].mean())\n",
        "print('Valore test: ', t)\n",
        "print('P-value: ', p_value)\n",
        "\n",
        "# p-value maggiore della significatività, non rigetto l'ipotesi nulla: film old e recenti non sono statisticamente diversi"
      ],
      "metadata": {
        "id": "5ECOYoJPNEMP",
        "colab": {
          "base_uri": "https://localhost:8080/"
        },
        "outputId": "89b0293e-f80b-4c8f-abec-ecf70329fbeb"
      },
      "execution_count": 213,
      "outputs": [
        {
          "output_type": "stream",
          "name": "stdout",
          "text": [
            "Valore test:  -1.6717200660027884\n",
            "P-value:  0.09467106981031759\n"
          ]
        }
      ]
    },
    {
      "cell_type": "markdown",
      "source": [
        "Deducete voi i risultati di questo t-test, e ditemi se vi torna il risultato. \n",
        "\n"
      ],
      "metadata": {
        "id": "4ecV_Ds9KoK-"
      }
    },
    {
      "cell_type": "markdown",
      "source": [
        "A questo punto, utilizziamo le colonne  quantize_imdb_score e quantize_release_year che abbiamo prodotto durante lo scorso laboratorio. \n",
        "Recuperiamo la rappresentazione OLAP, e visualizziamo il numero di MOVIE, con uno slicing, concentrandoci su quantize_imdb_score.\n"
      ],
      "metadata": {
        "id": "mVcQmR2m-zNa"
      }
    },
    {
      "cell_type": "code",
      "source": [
        "quantize_imdb_score = ['LOW','SUFFICIENT','GOOD','VERY GOOD','EXCELLENT']\n",
        "quantize_release_year = ['VERY OLD','OLD','RECENT','VERY RECENT']\n",
        "quantize_type = ['MOVIE','SHOW']\n",
        "OLAP = np.zeros((5,4,2))\n",
        "for z in range(0,len(quantize_type)):\n",
        "  Awards_prog_z = integrate_titles[integrate_titles['type']==quantize_type[z]]\n",
        "  for j in range(0,len(quantize_release_year)):\n",
        "    for i in range(0,len(quantize_imdb_score)):\n",
        "      OLAP[i,j,z] = np.sum((Awards_prog_z['imdb_score_quant'] == quantize_imdb_score[i]) &(Awards_prog_z['release_year_quant'] == quantize_release_year[j]))"
      ],
      "metadata": {
        "id": "_H0xngkPQLOE"
      },
      "execution_count": 214,
      "outputs": []
    },
    {
      "cell_type": "markdown",
      "source": [
        "facciamo un dicing, concentrandoci su MOVIE e film RECENT. "
      ],
      "metadata": {
        "id": "UKdrbtQvXRdI"
      }
    },
    {
      "cell_type": "code",
      "source": [
        "#codice qui\n",
        "film_recenti = OLAP[:,2,0]\n",
        "print(film_recenti)\n",
        "\n",
        "# Ottengo i conteggi per indice di gradimento di ogni film"
      ],
      "metadata": {
        "id": "-Berr_klXVVt",
        "colab": {
          "base_uri": "https://localhost:8080/"
        },
        "outputId": "79f1f775-47d7-49a0-d898-62ca92b9e9e1"
      },
      "execution_count": 215,
      "outputs": [
        {
          "output_type": "stream",
          "name": "stdout",
          "text": [
            "[ 39. 121. 165. 149.  46.]\n"
          ]
        }
      ]
    },
    {
      "cell_type": "markdown",
      "source": [
        "Utilizzando altri servizi di streaming, otteniamo una versione analoga delle colonne quantizzate, relative ai soli film recenti (gli stessi del nostro dataset), di questo tipo:"
      ],
      "metadata": {
        "id": "mcAvrYyBQK0x"
      }
    },
    {
      "cell_type": "code",
      "source": [
        "imdb_score_altri_servizi = [40,119,170,145,46]"
      ],
      "metadata": {
        "id": "9oe3YoD-O7VR"
      },
      "execution_count": 216,
      "outputs": []
    },
    {
      "cell_type": "markdown",
      "source": [
        "vogliamo capire se i conteggi estratti dalle due diverse sorgenti (netflix e disney+ e altre due) appartengono alla stessa distribuzione.\n",
        "Possiamo farlo applicando un test chi-quadrato.\n",
        "\n",
        "Usiamo un Chi-quadrato per l'idoneita', ovvero osservo se un film valutato x da una piattaforma (nel nostro caso netflix + disney) lo è anche dalle altre; non consideriamo i film singolarmente, ma in conteggio quanti hanno una certa valutazione. Condizioni.\n",
        "\n",
        "Abbiamo almeno 5 conteggi? SI;\n",
        "Le singole osservazioni sono indipendenti e le dimensioni della popolazione devono essere pari ad almeno 10 volte quelle del campione (10n < N). Verificata, abbiamo oltre 4000 film soltanto nel dataset Netflix e Disney+."
      ],
      "metadata": {
        "id": "8ROvSlELXyVV"
      }
    },
    {
      "cell_type": "code",
      "source": [
        "#codice qui\n",
        "chi_squared, p_value = stats.chisquare(f_obs = film_recenti, f_exp = imdb_score_altri_servizi)\n",
        "print('Chi-quadrato: ', chi_squared)\n",
        "print('P-value: ', p_value)\n",
        "\n",
        "# guardando il valore di chi-quadrato, è più piccolo del valore critico (9.488): non posso rigettare l'ipotesi nulla, le distribuzione seguono lo stesso andamento"
      ],
      "metadata": {
        "id": "0S-YOnRd-372",
        "colab": {
          "base_uri": "https://localhost:8080/"
        },
        "outputId": "cbcb9419-540d-4c42-9073-ec15906a1ff8"
      },
      "execution_count": 217,
      "outputs": [
        {
          "output_type": "stream",
          "name": "stdout",
          "text": [
            "Chi-quadrato:  0.3160170964937699\n",
            "P-value:  0.9887568942640739\n"
          ]
        }
      ]
    },
    {
      "cell_type": "markdown",
      "source": [
        "interpretiamo i risultati del test:\n",
        "\n",
        "i gradi di libertà sono n = (numero di colonne -1) = 5 - 1 = 4.\n",
        "\n",
        "scegliamo un intervallo di confidenza di 0.95.\n",
        "\n",
        "Prendendo la tabella del chi-quadrato, notiamo che il valore critico del Chi quadrato è 9.488, quindi il valore ottenuto è < del valore critico. \n",
        "\n",
        "Deduciamo allora che non possiamo rigettare l'ipotesi nulla, secondo cui gli indici imbd_score relativi ai due servizi di streaming seguono la stessa distribuzione. \n"
      ],
      "metadata": {
        "id": "0YxFnQDPZKyS"
      }
    },
    {
      "cell_type": "markdown",
      "source": [
        "Dagli stessi servizi di streaming alternativi a Netflix e Disney plus, troviamo che i film con gradimento low, hanno la seguente distribuzione in termini di anno di rilascio:"
      ],
      "metadata": {
        "id": "HQBAKZoVVIBj"
      }
    },
    {
      "cell_type": "code",
      "source": [
        "\n",
        "release_year_altri_servizi_old_movies = [20,42,250,299]\n",
        "\n",
        "# Nota: la distribuzione considerata fa riferimento al gradimento 'sufficient' e non low"
      ],
      "metadata": {
        "id": "OE2LgSMi_CXP"
      },
      "execution_count": 218,
      "outputs": []
    },
    {
      "cell_type": "markdown",
      "source": [
        "verificate se i conteggi estratti dalle due sorgenti seguono la stessa distribuzione.\n",
        "\n",
        "**tip** calcoliamo prima il numero di gradi di libertà, poi confrontiamo, al solito, il valore di chi-quadrato ottenuto con il valore estratto dalla tabella del chi-quadrato."
      ],
      "metadata": {
        "id": "dGriMzgvWji7"
      }
    },
    {
      "cell_type": "code",
      "source": [
        "#dicing su MOVIES e LOW IMDB_SCORE (sufficient, altrimenti le somme dei conteggi non tornano)\n",
        "film_low = OLAP[1,:,0]\n",
        "print(film_low)\n",
        "#test chi-quadrato idoneità\n",
        "chi_squared, p_value = stats.chisquare(f_obs = film_low, f_exp = release_year_altri_servizi_old_movies)\n",
        "print('Chi-quadrato: ', chi_squared)\n",
        "print('P-value: ', p_value)\n",
        "\n",
        "# Gradi di libertà: 4 colonne - 1 = 3\n",
        "# Scegliamo un intervallo di confidenza di 0.95 (significatività 0.05)\n",
        "# Dalla tabella il valore critico del Chi quadrato è 7.815\n",
        "# Osservo che il valore ottenuto è notevolmente maggiore rispetto al valore critico, dunque rigettiamo l'ipotesi nulla: i conteggi non seguono la stessa distribuzione\n",
        "# Effettivamente questo risultato lo si può effettivamente vedere anche ad occhio, in questo caso: i conteggi sono molto diversi per i vari spazi temporali"
      ],
      "metadata": {
        "id": "6GvtdEZvWPHk",
        "colab": {
          "base_uri": "https://localhost:8080/"
        },
        "outputId": "9ebc7089-2890-49a8-fcb8-528d5ff66c7c"
      },
      "execution_count": 219,
      "outputs": [
        {
          "output_type": "stream",
          "name": "stdout",
          "text": [
            "[ 19.  41. 121. 430.]\n",
            "Chi-quadrato:  124.03245835324097\n",
            "P-value:  1.0443875410416128e-26\n"
          ]
        }
      ]
    },
    {
      "cell_type": "markdown",
      "source": [
        "commentate con le opportune conclusioni. "
      ],
      "metadata": {
        "id": "ZXaPICNlXQWL"
      }
    }
  ]
}