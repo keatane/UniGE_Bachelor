{
  "cells": [
    {
      "cell_type": "markdown",
      "source": [
        "# Home assignment - FCQ\n",
        "## Author: Kevin Cattaneo - S4944382"
      ],
      "metadata": {
        "id": "lcxHosqLy0F_"
      }
    },
    {
      "cell_type": "markdown",
      "source": [
        "|\\beta_{00}\\rangle = \\frac{|00\\rangle +|11\\rangle}{\\sqrt{2}}"
      ],
      "metadata": {
        "id": "dhySHOsirh8G"
      }
    },
    {
      "cell_type": "code",
      "execution_count": null,
      "metadata": {
        "id": "bd9529db1c0b"
      },
      "outputs": [],
      "source": [
        "try:\n",
        "    import cirq\n",
        "except ImportError:\n",
        "    print(\"installing cirq...\")\n",
        "    !pip install --quiet cirq\n",
        "    import cirq\n",
        "\n",
        "    print(\"installed cirq.\")\n",
        "    \n",
        "import matplotlib.pyplot as plt"
      ]
    },
    {
      "cell_type": "code",
      "source": [
        "# Print function\n",
        "def myprint(simulator, circuit):\n",
        "  print('-- Circuit simulation --')\n",
        "  results= simulator.simulate(circuit)\n",
        "  print(results)\n",
        "  print('\\n\\n')\n",
        "  print(circuit)\n",
        "  print('\\n')"
      ],
      "metadata": {
        "id": "u_z-rFLRt1wM"
      },
      "execution_count": null,
      "outputs": []
    },
    {
      "cell_type": "code",
      "source": [
        "### Note: we will recreate two new qubits every time, but only to simulate the different choices that Alice can take \n",
        "# We will generate the Bell State:\n",
        "# sqrt(2) * ( |00> + |11> )\n",
        "# This will be the entangled state shared between Alice and Bob\n",
        "def bell_creation():\n",
        "  bell_circuit = cirq.Circuit()\n",
        "  a, b = cirq.LineQubit.range(2)\n",
        "  bell_circuit.append(cirq.H(a))\n",
        "  bell_circuit.append(cirq.CNOT(a,b))\n",
        "  return a, b, bell_circuit # returns two qubits (of Alice and Bob) and the circuit"
      ],
      "metadata": {
        "id": "clofiKZdxJsF"
      },
      "execution_count": null,
      "outputs": []
    },
    {
      "cell_type": "code",
      "source": [
        "# Verification of result with a measure, plus printing a histogram\n",
        "\n",
        "def measureAndHist(simulator, a, b, circuit):\n",
        "  # For sampling, we need to add a measurement at the end\n",
        "  circuit.append(cirq.measure(a, b, key='result'))\n",
        "\n",
        "  # Sample the circuit\n",
        "  samples = simulator.run(circuit, repetitions=1000) # verify for n repetition the result\n",
        "\n",
        "  # Pull of histogram counts from the result data structure\n",
        "  counts = samples.histogram(key='result')\n",
        "  print(counts)\n",
        "\n",
        "  # Graph the histogram counts instead of the results\n",
        "  cirq.plot_state_histogram(counts, plt.subplot())\n",
        "  plt.show()"
      ],
      "metadata": {
        "id": "luJNGlIgupdG"
      },
      "execution_count": null,
      "outputs": []
    },
    {
      "cell_type": "code",
      "source": [
        "# Initialize Simulator\n",
        "s = cirq.Simulator()"
      ],
      "metadata": {
        "id": "mVJwsnADxI6c"
      },
      "execution_count": null,
      "outputs": []
    },
    {
      "cell_type": "markdown",
      "source": [
        "### If Alice wants to send string 00..."
      ],
      "metadata": {
        "id": "-P7EYMcCytBF"
      }
    },
    {
      "cell_type": "code",
      "source": [
        "# If Alice wants to send string 00...\n",
        "# no further operations on circuit (identity)\n",
        "print('-- Alice sends 00 -- ')\n",
        "a, b, bell_circuit = bell_creation()\n",
        "myprint(s, bell_circuit)"
      ],
      "metadata": {
        "colab": {
          "base_uri": "https://localhost:8080/"
        },
        "id": "Rh71ue7xcSHZ",
        "outputId": "46ef36eb-76f1-49bb-aa75-42290686b5a2"
      },
      "execution_count": null,
      "outputs": [
        {
          "output_type": "stream",
          "name": "stdout",
          "text": [
            "-- Alice sends 00 -- \n",
            "-- Circuit simulation --\n",
            "measurements: (no measurements)\n",
            "\n",
            "qubits: (cirq.LineQubit(0), cirq.LineQubit(1))\n",
            "output vector: 0.707|00⟩ + 0.707|11⟩\n",
            "\n",
            "phase:\n",
            "output vector: |⟩\n",
            "\n",
            "\n",
            "\n",
            "0: ───H───@───\n",
            "          │\n",
            "1: ───────X───\n",
            "\n",
            "\n"
          ]
        }
      ]
    },
    {
      "cell_type": "markdown",
      "source": [
        "#### Bob receives the entangled state and try to obtain the original string (that should be 00)"
      ],
      "metadata": {
        "id": "ZCYh0wODzDFf"
      }
    },
    {
      "cell_type": "code",
      "source": [
        "# Bob applies CNOT gate and Hadamard gate on the first qubit in sequence\n",
        "bell_circuit.append(cirq.CNOT(a,b))\n",
        "bell_circuit.append(cirq.H(a))\n",
        "myprint(s, bell_circuit) # Bob obtain |00> with the 100% of probability\n",
        "measureAndHist(s, a, b, bell_circuit)"
      ],
      "metadata": {
        "colab": {
          "base_uri": "https://localhost:8080/",
          "height": 767
        },
        "id": "SNXbIIMKzOk1",
        "outputId": "91c666b8-9a3c-430e-cd5e-bdd42bb4f277"
      },
      "execution_count": null,
      "outputs": [
        {
          "output_type": "stream",
          "name": "stdout",
          "text": [
            "-- Circuit simulation --\n",
            "measurements: (no measurements)\n",
            "\n",
            "qubits: (cirq.LineQubit(0), cirq.LineQubit(1))\n",
            "output vector: |00⟩\n",
            "\n",
            "phase:\n",
            "output vector: |⟩\n",
            "\n",
            "\n",
            "\n",
            "0: ───H───@───@───H───\n",
            "          │   │\n",
            "1: ───────X───X───────\n",
            "\n",
            "\n",
            "Counter({0: 1000})\n"
          ]
        },
        {
          "output_type": "display_data",
          "data": {
            "text/plain": [
              "<Figure size 640x480 with 1 Axes>"
            ],
            "image/png": "[encoded data removed]"
          },
          "metadata": {}
        }
      ]
    },
    {
      "cell_type": "markdown",
      "source": [
        "### If Alice wants to send string 01..."
      ],
      "metadata": {
        "id": "tPaUyTt91K9K"
      }
    },
    {
      "cell_type": "code",
      "source": [
        "# If Alice wants to send string 01...\n",
        "print('-- Alice sends 01 -- ')\n",
        "a, b, bell_circuit = bell_creation()\n",
        "bell_circuit.append(cirq.X(a))\n",
        "myprint(s, bell_circuit)"
      ],
      "metadata": {
        "colab": {
          "base_uri": "https://localhost:8080/"
        },
        "id": "1ml-V-AhwQzU",
        "outputId": "b0fbaade-9ea9-473e-82bb-32056166634f"
      },
      "execution_count": null,
      "outputs": [
        {
          "output_type": "stream",
          "name": "stdout",
          "text": [
            "-- Alice sends 01 -- \n",
            "-- Circuit simulation --\n",
            "measurements: (no measurements)\n",
            "\n",
            "qubits: (cirq.LineQubit(0), cirq.LineQubit(1))\n",
            "output vector: 0.707|01⟩ + 0.707|10⟩\n",
            "\n",
            "phase:\n",
            "output vector: |⟩\n",
            "\n",
            "\n",
            "\n",
            "0: ───H───@───X───\n",
            "          │\n",
            "1: ───────X───────\n",
            "\n",
            "\n"
          ]
        }
      ]
    },
    {
      "cell_type": "markdown",
      "source": [
        "#### Bob receives the entangled state and try to obtain the original string (that should be 01)"
      ],
      "metadata": {
        "id": "f25krcb_09FI"
      }
    },
    {
      "cell_type": "code",
      "source": [
        "# Bob applies CNOT gate and Hadamard gate on the first qubit in sequence\n",
        "bell_circuit.append(cirq.CNOT(a,b))\n",
        "bell_circuit.append(cirq.H(a))\n",
        "myprint(s, bell_circuit) # Bob obtains |01> with the 100% of probability\n",
        "measureAndHist(s, a, b, bell_circuit)"
      ],
      "metadata": {
        "colab": {
          "base_uri": "https://localhost:8080/",
          "height": 767
        },
        "outputId": "2c1b0430-a5ef-43f3-a862-c83d3ea8fdc6",
        "id": "dJ6G_4hy09FJ"
      },
      "execution_count": null,
      "outputs": [
        {
          "output_type": "stream",
          "name": "stdout",
          "text": [
            "-- Circuit simulation --\n",
            "measurements: (no measurements)\n",
            "\n",
            "qubits: (cirq.LineQubit(0), cirq.LineQubit(1))\n",
            "output vector: |01⟩\n",
            "\n",
            "phase:\n",
            "output vector: |⟩\n",
            "\n",
            "\n",
            "\n",
            "0: ───H───@───X───@───H───\n",
            "          │       │\n",
            "1: ───────X───────X───────\n",
            "\n",
            "\n",
            "Counter({1: 1000})\n"
          ]
        },
        {
          "output_type": "display_data",
          "data": {
            "text/plain": [
              "<Figure size 640x480 with 1 Axes>"
            ],
            "image/png": "[encoded data removed]"
          },
          "metadata": {}
        }
      ]
    },
    {
      "cell_type": "markdown",
      "source": [
        "### If Alice wants to send string 10..."
      ],
      "metadata": {
        "id": "2Nym7kJm1JQR"
      }
    },
    {
      "cell_type": "code",
      "source": [
        "# If Alice wants to send string 10...\n",
        "print('-- Alice sends 10 -- ')\n",
        "a, b, bell_circuit = bell_creation()\n",
        "bell_circuit.append(cirq.Z(a))\n",
        "myprint(s, bell_circuit) # global phase"
      ],
      "metadata": {
        "colab": {
          "base_uri": "https://localhost:8080/"
        },
        "id": "U0rLRVPDvhg7",
        "outputId": "e013236b-6f78-4321-d637-ed3acbe667ba"
      },
      "execution_count": null,
      "outputs": [
        {
          "output_type": "stream",
          "name": "stdout",
          "text": [
            "-- Alice sends 10 -- \n",
            "-- Circuit simulation --\n",
            "measurements: (no measurements)\n",
            "\n",
            "qubits: (cirq.LineQubit(0), cirq.LineQubit(1))\n",
            "output vector: 0.707|00⟩ - 0.707|11⟩\n",
            "\n",
            "phase:\n",
            "output vector: |⟩\n",
            "\n",
            "\n",
            "\n",
            "0: ───H───@───Z───\n",
            "          │\n",
            "1: ───────X───────\n",
            "\n",
            "\n"
          ]
        }
      ]
    },
    {
      "cell_type": "markdown",
      "source": [
        "#### Bob receives the entangled state and try to obtain the original string (that should be 10)"
      ],
      "metadata": {
        "id": "BDnFaT8u073Q"
      }
    },
    {
      "cell_type": "code",
      "source": [
        "# Bob applies CNOT gate and Hadamard gate on the first qubit in sequence\n",
        "bell_circuit.append(cirq.CNOT(a,b))\n",
        "bell_circuit.append(cirq.H(a))\n",
        "myprint(s, bell_circuit) # Bob obtains |10> with the 100% of probability\n",
        "measureAndHist(s, a, b, bell_circuit)"
      ],
      "metadata": {
        "colab": {
          "base_uri": "https://localhost:8080/",
          "height": 767
        },
        "outputId": "9015b622-b378-4886-af22-88d46281c219",
        "id": "MUC9J0Wr073i"
      },
      "execution_count": null,
      "outputs": [
        {
          "output_type": "stream",
          "name": "stdout",
          "text": [
            "-- Circuit simulation --\n",
            "measurements: (no measurements)\n",
            "\n",
            "qubits: (cirq.LineQubit(0), cirq.LineQubit(1))\n",
            "output vector: |10⟩\n",
            "\n",
            "phase:\n",
            "output vector: |⟩\n",
            "\n",
            "\n",
            "\n",
            "0: ───H───@───Z───@───H───\n",
            "          │       │\n",
            "1: ───────X───────X───────\n",
            "\n",
            "\n",
            "Counter({2: 1000})\n"
          ]
        },
        {
          "output_type": "display_data",
          "data": {
            "text/plain": [
              "<Figure size 640x480 with 1 Axes>"
            ],
            "image/png": "[encoded data removed]"
          },
          "metadata": {}
        }
      ]
    },
    {
      "cell_type": "markdown",
      "source": [
        "### If Alice wants to send string 11..."
      ],
      "metadata": {
        "id": "LSxx4XrH1MYd"
      }
    },
    {
      "cell_type": "code",
      "source": [
        "# If Alice wants to send string 11...\n",
        "print('-- Alice sends 11 -- ')\n",
        "a, b, bell_circuit = bell_creation()\n",
        "bell_circuit.append(cirq.Z(a))\n",
        "bell_circuit.append(cirq.X(a))\n",
        "myprint(s, bell_circuit) # global phase"
      ],
      "metadata": {
        "colab": {
          "base_uri": "https://localhost:8080/"
        },
        "id": "ZpyjOcjUwTQn",
        "outputId": "6c2d730a-3293-48a5-edc5-3fdacaaa38fa"
      },
      "execution_count": null,
      "outputs": [
        {
          "output_type": "stream",
          "name": "stdout",
          "text": [
            "-- Alice sends 11 -- \n",
            "-- Circuit simulation --\n",
            "measurements: (no measurements)\n",
            "\n",
            "qubits: (cirq.LineQubit(0), cirq.LineQubit(1))\n",
            "output vector: -0.707|01⟩ + 0.707|10⟩\n",
            "\n",
            "phase:\n",
            "output vector: |⟩\n",
            "\n",
            "\n",
            "\n",
            "0: ───H───@───Z───X───\n",
            "          │\n",
            "1: ───────X───────────\n",
            "\n",
            "\n"
          ]
        }
      ]
    },
    {
      "cell_type": "markdown",
      "source": [
        "#### Bob receives the entangled state and try to obtain the original string (that should be 11)"
      ],
      "metadata": {
        "id": "cf3lw_Xd09xK"
      }
    },
    {
      "cell_type": "code",
      "source": [
        "# Bob applies CNOT gate and Hadamard gate on the first qubit in sequence\n",
        "bell_circuit.append(cirq.CNOT(a,b))\n",
        "bell_circuit.append(cirq.H(a))\n",
        "myprint(s, bell_circuit) # Bob obtains |11> with the 100% of probability, ignoring global phase\n",
        "measureAndHist(s, a, b, bell_circuit)"
      ],
      "metadata": {
        "colab": {
          "base_uri": "https://localhost:8080/",
          "height": 767
        },
        "outputId": "4700c5dc-aed8-43ca-cb0e-3b9da4d6e372",
        "id": "oZoGL3wD09xM"
      },
      "execution_count": null,
      "outputs": [
        {
          "output_type": "stream",
          "name": "stdout",
          "text": [
            "-- Circuit simulation --\n",
            "measurements: (no measurements)\n",
            "\n",
            "qubits: (cirq.LineQubit(0), cirq.LineQubit(1))\n",
            "output vector: -1|11⟩\n",
            "\n",
            "phase:\n",
            "output vector: |⟩\n",
            "\n",
            "\n",
            "\n",
            "0: ───H───@───Z───X───@───H───\n",
            "          │           │\n",
            "1: ───────X───────────X───────\n",
            "\n",
            "\n",
            "Counter({3: 1000})\n"
          ]
        },
        {
          "output_type": "display_data",
          "data": {
            "text/plain": [
              "<Figure size 640x480 with 1 Axes>"
            ],
            "image/png": "[encoded data removed]"
          },
          "metadata": {}
        }
      ]
    }
  ],
  "metadata": {
    "colab": {
      "provenance": []
    },
    "kernelspec": {
      "display_name": "Python 3",
      "name": "python3"
    }
  },
  "nbformat": 4,
  "nbformat_minor": 0
}